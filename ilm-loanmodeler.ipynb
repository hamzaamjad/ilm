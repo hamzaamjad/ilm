{
 "nbformat": 4,
 "nbformat_minor": 2,
 "metadata": {
  "language_info": {
   "name": "python",
   "codemirror_mode": {
    "name": "ipython",
    "version": 3
   },
   "version": "3.6.9"
  },
  "orig_nbformat": 2,
  "file_extension": ".py",
  "mimetype": "text/x-python",
  "name": "python",
  "npconvert_exporter": "python",
  "pygments_lexer": "ipython3",
  "version": 3
 },
 "cells": [
  {
   "cell_type": "code",
   "execution_count": null,
   "metadata": {},
   "outputs": [],
   "source": []
  },
  {
   "cell_type": "code",
   "execution_count": 17,
   "metadata": {},
   "outputs": [],
   "source": [
    "from datetime import datetime\n",
    "import pandas as pd\n",
    "import math"
   ]
  },
  {
   "cell_type": "code",
   "execution_count": 16,
   "metadata": {},
   "outputs": [],
   "source": [
    "def round_up(n, decimals=0):\n",
    "    multiplier = 10 ** decimals\n",
    "    return math.ceil(n * multiplier) / multiplier"
   ]
  },
  {
   "cell_type": "code",
   "execution_count": 30,
   "metadata": {},
   "outputs": [],
   "source": [
    "cash_rate = 0.05\n",
    "interest_reserve_rate = 0.05\n",
    "interest_reserve_term = .5\n",
    "origination_points = 0.025\n",
    "origination_points_deferred = 0.025\n",
    "principal = 10000000\n",
    "start_date = datetime.strptime('2019-01-01', '%Y-%m-%d')\n",
    "# https://pandas.pydata.org/pandas-docs/stable/user_guide/timeseries.html#offset-aliases\n",
    "periods = 366\n",
    "frequency = 'D'\n",
    "date_range = pd.date_range(start_date, periods = periods, freq = frequency)\n",
    "cash = round_up((cash_rate / 360) * principal, 2)\n",
    "interest_reserve = round_up((interest_reserve_rate * interest_reserve_term) * principal * 365/360, 2)\n",
    "origination_fee = origination_points * principal\n",
    "origination_fee_deferred = origination_points_deferred * principal\n",
    "bullet = origination_fee_deferred + principal\n",
    "net_funding = principal - interest_reserve - origination_fee\n",
    "df = pd.DataFrame(data = {'cash_pay' : cash}, index = date_range)\n",
    "df.reset_index(inplace = True, drop = False)\n",
    "df = df.append({'A': i}, ignore_index=True)\n",
    "monthly_schedule = df.groupby(pd.Grouper(freq='M')).sum()"
   ]
  },
  {
   "cell_type": "code",
   "execution_count": 32,
   "metadata": {},
   "outputs": [
    {
     "data": {
      "text/html": "<div>\n<style scoped>\n    .dataframe tbody tr th:only-of-type {\n        vertical-align: middle;\n    }\n\n    .dataframe tbody tr th {\n        vertical-align: top;\n    }\n\n    .dataframe thead th {\n        text-align: right;\n    }\n</style>\n<table border=\"1\" class=\"dataframe\">\n  <thead>\n    <tr style=\"text-align: right;\">\n      <th></th>\n      <th>cash_pay</th>\n    </tr>\n  </thead>\n  <tbody>\n    <tr>\n      <th>2019-01-31</th>\n      <td>43055.59</td>\n    </tr>\n    <tr>\n      <th>2019-02-28</th>\n      <td>38888.92</td>\n    </tr>\n    <tr>\n      <th>2019-03-31</th>\n      <td>43055.59</td>\n    </tr>\n    <tr>\n      <th>2019-04-30</th>\n      <td>41666.70</td>\n    </tr>\n    <tr>\n      <th>2019-05-31</th>\n      <td>43055.59</td>\n    </tr>\n    <tr>\n      <th>2019-06-30</th>\n      <td>41666.70</td>\n    </tr>\n    <tr>\n      <th>2019-07-31</th>\n      <td>43055.59</td>\n    </tr>\n    <tr>\n      <th>2019-08-31</th>\n      <td>43055.59</td>\n    </tr>\n    <tr>\n      <th>2019-09-30</th>\n      <td>41666.70</td>\n    </tr>\n    <tr>\n      <th>2019-10-31</th>\n      <td>43055.59</td>\n    </tr>\n    <tr>\n      <th>2019-11-30</th>\n      <td>41666.70</td>\n    </tr>\n    <tr>\n      <th>2019-12-31</th>\n      <td>43055.59</td>\n    </tr>\n    <tr>\n      <th>2020-01-31</th>\n      <td>1388.89</td>\n    </tr>\n  </tbody>\n</table>\n</div>",
      "text/plain": "            cash_pay\n2019-01-31  43055.59\n2019-02-28  38888.92\n2019-03-31  43055.59\n2019-04-30  41666.70\n2019-05-31  43055.59\n2019-06-30  41666.70\n2019-07-31  43055.59\n2019-08-31  43055.59\n2019-09-30  41666.70\n2019-10-31  43055.59\n2019-11-30  41666.70\n2019-12-31  43055.59\n2020-01-31   1388.89"
     },
     "execution_count": 32,
     "metadata": {},
     "output_type": "execute_result"
    }
   ],
   "source": [
    "monthly_schedule"
   ]
  },
  {
   "cell_type": "code",
   "execution_count": null,
   "metadata": {},
   "outputs": [],
   "source": []
  }
 ]
}