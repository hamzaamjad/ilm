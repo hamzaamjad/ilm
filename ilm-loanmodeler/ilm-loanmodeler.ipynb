{
 "nbformat": 4,
 "nbformat_minor": 2,
 "metadata": {
  "language_info": {
   "name": "python",
   "codemirror_mode": {
    "name": "ipython",
    "version": 3
   },
   "version": "3.6.9"
  },
  "orig_nbformat": 2,
  "file_extension": ".py",
  "mimetype": "text/x-python",
  "name": "python",
  "npconvert_exporter": "python",
  "pygments_lexer": "ipython3",
  "version": 3
 },
 "cells": [
  {
   "cell_type": "code",
   "execution_count": 1,
   "metadata": {},
   "outputs": [],
   "source": [
    "from datetime import datetime # Date calculations\n",
    "from dateutil.relativedelta import relativedelta # Exact date calcs\n",
    "import pandas as pd #DataFrames\n",
    "import numpy as np #\n",
    "import math # Round up function\n",
    "import random # Random loan term generation\n",
    "from tqdm import tqdm # Loading bars"
   ]
  },
  {
   "cell_type": "markdown",
   "execution_count": null,
   "metadata": {},
   "outputs": [],
   "source": [
    "## Helper Functions"
   ]
  },
  {
   "cell_type": "code",
   "execution_count": 2,
   "metadata": {},
   "outputs": [],
   "source": [
    "def round_up(n, decimals=0):\n",
    "    multiplier = 10 ** decimals\n",
    "    return(math.ceil(n * multiplier) / multiplier)\n",
    "\n",
    "# Return a random datetime between to datetime objects\n",
    "def random_date(start, end):\n",
    "    delta = end - start\n",
    "    int_delta = (delta.days * 24 * 60 * 60) + delta.seconds\n",
    "    random_second = random.randrange(int_delta)\n",
    "    return(start + datetime.timedelta(seconds=random_second))"
   ]
  },
  {
   "cell_type": "markdown",
   "execution_count": null,
   "metadata": {},
   "outputs": [],
   "source": [
    "## Loan Terms"
   ]
  },
  {
   "cell_type": "code",
   "execution_count": 3,
   "metadata": {},
   "outputs": [],
   "source": [
    "terms = {'principal':10000000,\n",
    " 'cash_rate':0.05,\n",
    " 'interest_reserve_rate':0.05,\n",
    " 'interest_reserve_term':0.5,\n",
    " 'origination_points':0.025,\n",
    " 'origination_points_deferred':0.025,\n",
    " 'date_originated':datetime.strptime('2019-01-01', '%Y-%m-%d'),\n",
    " 'date_payoff':datetime.strptime('2020-01-01', '%Y-%m-%d')\n",
    "}\n",
    "\n",
    "terms_full_ir = {'principal':10000000,\n",
    " 'cash_rate':0.05,\n",
    " 'interest_reserve_rate':0.05,\n",
    " 'interest_reserve_term':1,\n",
    " 'origination_points':0.025,\n",
    " 'origination_points_deferred':0.025,\n",
    " 'date_originated':datetime.strptime('2019-01-01', '%Y-%m-%d'),\n",
    " 'date_payoff':datetime.strptime('2020-01-01', '%Y-%m-%d')\n",
    "}\n",
    "\n",
    "def generate_loan_terms():\n",
    "    principal = random.uniform(1000000,50000000)\n",
    "    cash_rate = random.uniform(0.05,0.09)\n",
    "    interest_reserve_rate = random.uniform(0, 0.05)\n",
    "    interest_reserve_term = random.random()\n",
    "    origination_points = random.uniform(0, 0.01)\n",
    "    origination_points_deferred = random.uniform(0, 0.01)\n",
    "    date_originated = random_date(datetime.strptime('2020-01-01', '%Y-%m-%d'), datetime.strptime('2022-01-01', '%Y-%m-%d'))\n",
    "    date_payoff = date_originated + datetime.timedelta(int(random.uniform(12,24))*365/12)\n",
    "    terms = {'principal':principal,'cash_rate':cash_rate,'interest_reserve_rate':interest_reserve_rate,'interest_reserve_term':interest_reserve_term,'origination_points':origination_points,'origination_points_deferred':origination_points_deferred,'date_originated':date_originated,'date_payoff':date_payoff,'periods':365,'frequency':'D'}\n",
    "    return(terms)"
   ]
  },
  {
   "cell_type": "markdown",
   "execution_count": null,
   "metadata": {},
   "outputs": [],
   "source": [
    "## Loan CFs"
   ]
  },
  {
   "cell_type": "code",
   "execution_count": 4,
   "metadata": {},
   "outputs": [],
   "source": [
    "def generate_loan(terms, amortizing = True, amortization_terms = {'term' : 30}):\n",
    "    '''\n",
    "    Periodic transactions.\n",
    "    '''\n",
    "    # Loan cash flows are calculated on a daily basis. Generate range of dates between origination and payoff date\n",
    "    # # https://pandas.pydata.org/pandas-docs/stable/user_guide/timeseries.html#offset-aliases\n",
    "    term = (terms['date_payoff'] - terms['date_originated']).days\n",
    "    term_ir = round_up(term * terms['interest_reserve_term'],0)\n",
    "    date_range = pd.date_range(terms['date_originated'], periods = term, freq = 'D')\n",
    "    date_range_ir = pd.date_range(terms['date_originated'], periods = term_ir, freq = 'D')\n",
    "\n",
    "    # Payments are calculated on a daily basis, on a 365/360 day convention, rounded to the nearest cent.\n",
    "    rate_cash = terms['cash_rate'] / 360\n",
    "    rate_ir = terms['interest_reserve_rate'] / 360\n",
    "\n",
    "    rate_coupon = rate_cash + rate_ir\n",
    "    n = ((terms['date_originated'] + relativedelta(years = amortization_terms['term'])) - terms['date_originated']).days\n",
    "\n",
    "    if amortizing:\n",
    "        coupon = round_up(((((1+rate_coupon) ** n) * rate_coupon) / (((1+rate_coupon) ** n) - 1)) * terms['principal'], 2)\n",
    "    else:\n",
    "        coupon = round_up(rate_coupon * terms['principal'], 2)\n",
    "    \n",
    "    balance_coupon = coupon * term\n",
    "    balance_ir = balance_coupon * (rate_ir / rate_coupon) * terms['interest_reserve_term']\n",
    "    print(balance_ir)\n",
    "    cash = round_up(balance_coupon / term, 2)\n",
    "    ir = round_up(balance_ir / term_ir, 2)\n",
    "\n",
    "    daily_cash = pd.Series(cash, index = date_range)\n",
    "    daily_ir = pd.Series(ir, index = date_range_ir)\n",
    "\n",
    "    # Remove interest reserve from cash-flow stream\n",
    "    daily_cash = daily_cash.subtract(daily_ir, fill_value = 0)\n",
    "\n",
    "\n",
    "    '''\n",
    "    One-time transactions\n",
    "    '''\n",
    "    rate = terms['cash_rate'] + (terms['interest_reserve_rate'] * terms['interest_reserve_term']) + terms['origination_points'] + terms['origination_points_deferred']\n",
    "    points_in = terms['origination_points'] * terms['principal']\n",
    "    points_out = terms['origination_points_deferred'] * terms['principal']\n",
    "    if amortizing:\n",
    "        delta = round_up(((((1+rate_coupon) ** n) * rate_coupon) / (((1+rate_coupon) ** n) - 1)) * terms['principal'], 2) - round_up(rate_coupon * terms['principal'], 2)\n",
    "        delta = (delta * term) * (1 - balance_ir / balance_coupon)\n",
    "        payoff = terms['principal'] + points_out - delta\n",
    "    else:\n",
    "        payoff = terms['principal'] + points_out\n",
    "    net_funding = -(terms['principal'] - points_in - balance_ir)\n",
    "\n",
    "    '''\n",
    "    {\n",
    "        'net_funding' : [{'2019-01-01' : -1000}],\n",
    "        'cash' : [{'2019-01-01' : 1}]\n",
    "    }\n",
    "    '''\n",
    "\n",
    "    # Create loan schedule\n",
    "\n",
    "    net_funding = pd.Series(net_funding, index = pd.Index([terms['date_originated']]))\n",
    "    payoff = pd.Series(payoff, index = pd.Index([terms['date_payoff']]))\n",
    "\n",
    "    cash_flows = {\n",
    "        'profit (loss)' : sum(net_funding) + sum(daily_cash) + sum(payoff),\n",
    "        'net_funding' : net_funding,\n",
    "        'cash' : daily_cash,\n",
    "        'payoff' : payoff\n",
    "    }\n",
    "\n",
    "    return(cash_flows)"
   ]
  },
  {
   "cell_type": "code",
   "execution_count": 5,
   "metadata": {},
   "outputs": [
    {
     "name": "stdout",
     "output_type": "stream",
     "text": "266160.7375\n"
    },
    {
     "data": {
      "text/plain": "{'profit (loss)': 1526576.2300000004, 'net_funding': 2019-01-01   -9.483839e+06\n dtype: float64, 'cash': 2019-01-01    1462.39\n 2019-01-02    1462.39\n 2019-01-03    1462.39\n 2019-01-04    1462.39\n 2019-01-05    1462.39\n                ...   \n 2019-12-27    2916.83\n 2019-12-28    2916.83\n 2019-12-29    2916.83\n 2019-12-30    2916.83\n 2019-12-31    2916.83\n Freq: D, Length: 365, dtype: float64, 'payoff': 2020-01-01    1.021194e+07\n dtype: float64}"
     },
     "execution_count": 5,
     "metadata": {},
     "output_type": "execute_result"
    }
   ],
   "source": [
    "x = generate_loan(terms, amortizing = True)\n",
    "x"
   ]
  },
  {
   "cell_type": "code",
   "execution_count": 6,
   "metadata": {},
   "outputs": [
    {
     "name": "stdout",
     "output_type": "stream",
     "text": "253472.42500000002\n"
    },
    {
     "data": {
      "text/plain": "{'profit (loss)': 1513888.8250000048, 'net_funding': 2019-01-01   -9496527.575\n dtype: float64, 'cash': 2019-01-01    1392.68\n 2019-01-02    1392.68\n 2019-01-03    1392.68\n 2019-01-04    1392.68\n 2019-01-05    1392.68\n                ...   \n 2019-12-27    2777.78\n 2019-12-28    2777.78\n 2019-12-29    2777.78\n 2019-12-30    2777.78\n 2019-12-31    2777.78\n Freq: D, Length: 365, dtype: float64, 'payoff': 2020-01-01    10250000.0\n dtype: float64}"
     },
     "execution_count": 6,
     "metadata": {},
     "output_type": "execute_result"
    }
   ],
   "source": [
    "y = generate_loan(terms, amortizing = False)\n",
    "y"
   ]
  },
  {
   "cell_type": "code",
   "execution_count": 7,
   "metadata": {},
   "outputs": [
    {
     "name": "stdout",
     "output_type": "stream",
     "text": "532321.475\n"
    },
    {
     "data": {
      "text/plain": "{'profit (loss)': 1539264.4999999963, 'net_funding': 2019-01-01   -9217678.525\n dtype: float64, 'cash': 2019-01-01    1458.41\n 2019-01-02    1458.41\n 2019-01-03    1458.41\n 2019-01-04    1458.41\n 2019-01-05    1458.41\n                ...   \n 2019-12-27    1458.41\n 2019-12-28    1458.41\n 2019-12-29    1458.41\n 2019-12-30    1458.41\n 2019-12-31    1458.41\n Freq: D, Length: 365, dtype: float64, 'payoff': 2020-01-01    1.022462e+07\n dtype: float64}"
     },
     "execution_count": 7,
     "metadata": {},
     "output_type": "execute_result"
    }
   ],
   "source": [
    "generate_loan(terms_full_ir, amortizing = True)"
   ]
  },
  {
   "cell_type": "code",
   "execution_count": 8,
   "metadata": {},
   "outputs": [
    {
     "name": "stdout",
     "output_type": "stream",
     "text": "506944.85000000003\n"
    },
    {
     "data": {
      "text/plain": "{'profit (loss)': 1513889.700000003, 'net_funding': 2019-01-01   -9243055.15\n dtype: float64, 'cash': 2019-01-01    1388.89\n 2019-01-02    1388.89\n 2019-01-03    1388.89\n 2019-01-04    1388.89\n 2019-01-05    1388.89\n                ...   \n 2019-12-27    1388.89\n 2019-12-28    1388.89\n 2019-12-29    1388.89\n 2019-12-30    1388.89\n 2019-12-31    1388.89\n Freq: D, Length: 365, dtype: float64, 'payoff': 2020-01-01    10250000.0\n dtype: float64}"
     },
     "execution_count": 8,
     "metadata": {},
     "output_type": "execute_result"
    }
   ],
   "source": [
    "generate_loan(terms_full_ir, amortizing = False)"
   ]
  },
  {
   "cell_type": "code",
   "execution_count": null,
   "metadata": {},
   "outputs": [],
   "source": []
  }
 ]
}