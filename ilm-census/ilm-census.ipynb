{
 "nbformat": 4,
 "nbformat_minor": 2,
 "metadata": {
  "language_info": {
   "name": "python",
   "codemirror_mode": {
    "name": "ipython",
    "version": 3
   },
   "version": "3.6.9-final"
  },
  "orig_nbformat": 2,
  "file_extension": ".py",
  "mimetype": "text/x-python",
  "name": "python",
  "npconvert_exporter": "python",
  "pygments_lexer": "ipython3",
  "version": 3,
  "kernelspec": {
   "name": "python36964bitanaconda3virtualenv13a21eee88724399b15fe21dce0fea4a",
   "display_name": "Python 3.6.9 64-bit ('anaconda3': virtualenv)"
  }
 },
 "cells": [
  {
   "cell_type": "code",
   "execution_count": 9,
   "metadata": {},
   "outputs": [],
   "source": [
    "import sys\n",
    "sys.path.append('..')\n",
    "from ilm_ini.ilm_ini import ini\n",
    "import os\n",
    "\n",
    "import requests\n",
    "import pandas as pd\n",
    "import numpy as np\n",
    "\n",
    "# References Google's Geocoding API\n",
    "# https://developers.google.com/maps/documentation/geocoding/start\n",
    "# Uses f-strings, Python 3.6+\n",
    "def geocode_address(address):\n",
    "    api_key = ilm_ini.read('Google APIs','geocoding')\n",
    "    address = [x.replace(\" \", \"+\") for x in address.split(\",\")]\n",
    "    url = f'https://maps.googleapis.com/maps/api/geocode/json?address={address[0]},{address[1]},{address[2]}&key={api_key}'\n",
    "    response = requests.get(url)\n",
    "    response = response.json()\n",
    "    try:\n",
    "        if response['status'] == 'REQUEST_DENIED':\n",
    "            print(response['status'])\n",
    "            return(response['error_message'])\n",
    "        elif response['status'] == 'OK':\n",
    "            result = response['results'][0]\n",
    "            output = {'address' : result['formatted_address'], 'location' : result['geometry']['location']}\n",
    "    except:\n",
    "        print(\"Error in geocoding. URL attempted: \", url)\n",
    "        return(url)\n",
    "    return(output)\n",
    "\n",
    "# Expects an 'address' dictionary output by geocode_address\n",
    "def address_parts(address, location):\n",
    "    address_parts = [x.strip() for x in address.split(\",\")]\n",
    "    output = {'address' : address, 'location' : location, 'address_parts' : {'street' : address_parts[0], 'city' : address_parts[1], 'state' : address_parts[2][:2], 'zip_code' : address_parts[2][-5:], 'country' : address_parts[3]}}\n",
    "    return(output)\n",
    "\n",
    "# Expects an 'address' dictionary output by geocode_address, with further modification by address_parts\n",
    "def address_census_keys(address, location, address_parts, benchmark = 'Public_AR_Current', vintage = 'ACS2019_Current'):\n",
    "    url = 'https://geocoding.geo.census.gov/geocoder/geographies/coordinates'\n",
    "    layers = ['2010 Census Blocks', 'Secondary School Districts', '2019 State Legislative Districts - Upper', 'County Subdivisions', 'Elementary School Districts', 'Metropolitan Statistical Areas', 'Counties', '2019 State Legislative Districts - Lower', 'Census Block Groups', 'Combined Statistical Areas', '2010 Census ZIP Code Tabulation Areas', 'Census Tracts']\n",
    "    url_params = {'x' : location['lng'], 'y' : location['lat'], 'benchmark' : benchmark, 'vintage' : vintage, 'layers' : layers, 'format' : 'json'}\n",
    "    response = requests.get(url, params = url_params)\n",
    "    result = response.json()['result']\n",
    "    geographies = {k1: {k2: v2 for k2, v2 in next(iter(v1 or []), dict()).items() if (k2 in ['GEOID', 'CENTLAT', 'BASENAME', 'NAME', 'CENTLON'])} for k1, v1 in result['geographies'].items()}\n",
    "    output = {'address' : address, 'location' : location, 'address_parts' : address_parts, 'geographies' : geographies}\n",
    "    return(output)\n",
    "\n",
    "# Sample call - datasets_census(vintage = 2017)\n",
    "def datasets_census(dataset = False, vintage = False):\n",
    "    # URLs with list of datasets\n",
    "    urls = ['https://api.census.gov/data/2010.json','https://api.census.gov/data.json']\n",
    "\n",
    "    # Get list of datasets from both endpoints\n",
    "    datasets = pd.DataFrame()\n",
    "    for url in urls:\n",
    "        response = requests.get(url) # GET\n",
    "        response = response.json()\n",
    "        df = pd.DataFrame(response['dataset'])\n",
    "        if 'c_isTimeseries' not in df.columns:\n",
    "            df.insert(loc = len(df.columns), column = 'c_isTimeseries', value = np.nan)\n",
    "            datasets = pd.concat([datasets, df], sort = False, ignore_index = True)\n",
    "        else:\n",
    "            datasets = pd.concat([datasets, df], sort = False, ignore_index = True)\n",
    "\n",
    "    # vintage parameter\n",
    "    if vintage:\n",
    "        datasets = datasets[datasets['c_vintage'] == vintage]  \n",
    "\n",
    "    # dataset parameter        \n",
    "    if dataset:\n",
    "        dataset_tags = dict(zip(datasets['identifier'], datasets['c_dataset']))\n",
    "        df_ids = list(dict(filter(lambda elem: len(list(filter(lambda k: dataset in k, elem[1])))>0, dataset_tags.items())).keys())\n",
    "        datasets = datasets[datasets['identifier'].isin(df_ids)]\n",
    "\n",
    "    return(datasets)"
   ]
  },
  {
   "cell_type": "code",
   "execution_count": 10,
   "metadata": {},
   "outputs": [
    {
     "name": "stdout",
     "output_type": "stream",
     "text": "Existing INI file found. Loading credentials...\n"
    }
   ],
   "source": [
    "ilm_ini = ini()"
   ]
  },
  {
   "cell_type": "code",
   "execution_count": 11,
   "metadata": {},
   "outputs": [
    {
     "name": "stdout",
     "output_type": "stream",
     "text": "REQUEST_DENIED\n"
    },
    {
     "ename": "TypeError",
     "evalue": "address_parts() argument after ** must be a mapping, not str",
     "output_type": "error",
     "traceback": [
      "\u001b[0;31m---------------------------------------------------------------------------\u001b[0m",
      "\u001b[0;31mTypeError\u001b[0m                                 Traceback (most recent call last)",
      "\u001b[0;32m<ipython-input-11-f266572bfc90>\u001b[0m in \u001b[0;36m<module>\u001b[0;34m\u001b[0m\n\u001b[1;32m      1\u001b[0m \u001b[0morange\u001b[0m \u001b[0;34m=\u001b[0m \u001b[0mgeocode_address\u001b[0m\u001b[0;34m(\u001b[0m\u001b[0;34m'2074 East Orange Street, Tempe, AZ'\u001b[0m\u001b[0;34m)\u001b[0m\u001b[0;34m\u001b[0m\u001b[0;34m\u001b[0m\u001b[0m\n\u001b[0;32m----> 2\u001b[0;31m \u001b[0morange\u001b[0m \u001b[0;34m=\u001b[0m \u001b[0maddress_parts\u001b[0m\u001b[0;34m(\u001b[0m\u001b[0;34m**\u001b[0m\u001b[0morange\u001b[0m\u001b[0;34m)\u001b[0m\u001b[0;34m\u001b[0m\u001b[0;34m\u001b[0m\u001b[0m\n\u001b[0m\u001b[1;32m      3\u001b[0m \u001b[0morange\u001b[0m \u001b[0;34m=\u001b[0m \u001b[0maddress_census_keys\u001b[0m\u001b[0;34m(\u001b[0m\u001b[0;34m**\u001b[0m\u001b[0morange\u001b[0m\u001b[0;34m)\u001b[0m\u001b[0;34m\u001b[0m\u001b[0;34m\u001b[0m\u001b[0m\n\u001b[1;32m      4\u001b[0m \u001b[0mprint\u001b[0m\u001b[0;34m(\u001b[0m\u001b[0morange\u001b[0m\u001b[0;34m)\u001b[0m\u001b[0;34m\u001b[0m\u001b[0;34m\u001b[0m\u001b[0m\n",
      "\u001b[0;31mTypeError\u001b[0m: address_parts() argument after ** must be a mapping, not str"
     ]
    }
   ],
   "source": [
    "orange = geocode_address('2074 East Orange Street, Tempe, AZ')\n",
    "orange = address_parts(**orange)\n",
    "orange = address_census_keys(**orange)\n",
    "print(orange)"
   ]
  },
  {
   "cell_type": "code",
   "execution_count": 3,
   "metadata": {},
   "outputs": [
    {
     "data": {
      "text/html": "<div>\n<style scoped>\n    .dataframe tbody tr th:only-of-type {\n        vertical-align: middle;\n    }\n\n    .dataframe tbody tr th {\n        vertical-align: top;\n    }\n\n    .dataframe thead th {\n        text-align: right;\n    }\n</style>\n<table border=\"1\" class=\"dataframe\">\n  <thead>\n    <tr style=\"text-align: right;\">\n      <th></th>\n      <th>c_vintage</th>\n      <th>c_dataset</th>\n      <th>c_geographyLink</th>\n      <th>c_variablesLink</th>\n      <th>c_tagsLink</th>\n      <th>c_examplesLink</th>\n      <th>c_groupsLink</th>\n      <th>c_valuesLink</th>\n      <th>c_documentationLink</th>\n      <th>c_isAggregate</th>\n      <th>...</th>\n      <th>license</th>\n      <th>modified</th>\n      <th>programCode</th>\n      <th>references</th>\n      <th>spatial</th>\n      <th>temporal</th>\n      <th>publisher</th>\n      <th>accessLevel</th>\n      <th>bureauCode</th>\n      <th>c_isTimeseries</th>\n    </tr>\n  </thead>\n  <tbody>\n    <tr>\n      <th>407</th>\n      <td>2018.0</td>\n      <td>[acs, acs5]</td>\n      <td>https://api.census.gov/data/2018/acs/acs5/geog...</td>\n      <td>https://api.census.gov/data/2018/acs/acs5/vari...</td>\n      <td>https://api.census.gov/data/2018/acs/acs5/tags...</td>\n      <td>https://api.census.gov/data/2018/acs/acs5/exam...</td>\n      <td>https://api.census.gov/data/2018/acs/acs5/grou...</td>\n      <td>https://api.census.gov/data/2018/acs/acs5/valu...</td>\n      <td>https://www.census.gov/developer/</td>\n      <td>True</td>\n      <td>...</td>\n      <td>https://creativecommons.org/publicdomain/zero/...</td>\n      <td>2019-10-22 16:28:02.0</td>\n      <td>[006:004]</td>\n      <td>[https://www.census.gov/developers/]</td>\n      <td>NaN</td>\n      <td>unidentified</td>\n      <td>{'@type': 'org:Organization', 'name': 'U.S. Ce...</td>\n      <td>NaN</td>\n      <td>NaN</td>\n      <td>NaN</td>\n    </tr>\n    <tr>\n      <th>410</th>\n      <td>2018.0</td>\n      <td>[acs, acs5, cprofile]</td>\n      <td>https://api.census.gov/data/2018/acs/acs5/cpro...</td>\n      <td>https://api.census.gov/data/2018/acs/acs5/cpro...</td>\n      <td>https://api.census.gov/data/2018/acs/acs5/cpro...</td>\n      <td>https://api.census.gov/data/2018/acs/acs5/cpro...</td>\n      <td>https://api.census.gov/data/2018/acs/acs5/cpro...</td>\n      <td>https://api.census.gov/data/2018/acs/acs5/cpro...</td>\n      <td>https://www.census.gov/developer/</td>\n      <td>True</td>\n      <td>...</td>\n      <td>https://creativecommons.org/publicdomain/zero/...</td>\n      <td>2019-10-22 14:54:09.0</td>\n      <td>[006:004]</td>\n      <td>[https://www.census.gov/developers/]</td>\n      <td>NaN</td>\n      <td>unidentified</td>\n      <td>{'@type': 'org:Organization', 'name': 'U.S. Ce...</td>\n      <td>NaN</td>\n      <td>NaN</td>\n      <td>NaN</td>\n    </tr>\n    <tr>\n      <th>412</th>\n      <td>2018.0</td>\n      <td>[acs, acs5, profile]</td>\n      <td>https://api.census.gov/data/2018/acs/acs5/prof...</td>\n      <td>https://api.census.gov/data/2018/acs/acs5/prof...</td>\n      <td>https://api.census.gov/data/2018/acs/acs5/prof...</td>\n      <td>https://api.census.gov/data/2018/acs/acs5/prof...</td>\n      <td>https://api.census.gov/data/2018/acs/acs5/prof...</td>\n      <td>https://api.census.gov/data/2018/acs/acs5/prof...</td>\n      <td>https://www.census.gov/developer/</td>\n      <td>True</td>\n      <td>...</td>\n      <td>https://creativecommons.org/publicdomain/zero/...</td>\n      <td>2019-10-22 16:22:18.0</td>\n      <td>[006:004]</td>\n      <td>[https://www.census.gov/developers/]</td>\n      <td>NaN</td>\n      <td>unidentified</td>\n      <td>{'@type': 'org:Organization', 'name': 'U.S. Ce...</td>\n      <td>NaN</td>\n      <td>NaN</td>\n      <td>NaN</td>\n    </tr>\n    <tr>\n      <th>413</th>\n      <td>2018.0</td>\n      <td>[acs, acs5, subject]</td>\n      <td>https://api.census.gov/data/2018/acs/acs5/subj...</td>\n      <td>https://api.census.gov/data/2018/acs/acs5/subj...</td>\n      <td>https://api.census.gov/data/2018/acs/acs5/subj...</td>\n      <td>https://api.census.gov/data/2018/acs/acs5/subj...</td>\n      <td>https://api.census.gov/data/2018/acs/acs5/subj...</td>\n      <td>https://api.census.gov/data/2018/acs/acs5/subj...</td>\n      <td>https://www.census.gov/developer/</td>\n      <td>True</td>\n      <td>...</td>\n      <td>https://creativecommons.org/publicdomain/zero/...</td>\n      <td>2019-10-22 15:36:29.0</td>\n      <td>[006:004]</td>\n      <td>[https://www.census.gov/developers/]</td>\n      <td>NaN</td>\n      <td>unidentified</td>\n      <td>{'@type': 'org:Organization', 'name': 'U.S. Ce...</td>\n      <td>NaN</td>\n      <td>NaN</td>\n      <td>NaN</td>\n    </tr>\n  </tbody>\n</table>\n<p>4 rows × 29 columns</p>\n</div>",
      "text/plain": "     c_vintage              c_dataset  \\\n407     2018.0            [acs, acs5]   \n410     2018.0  [acs, acs5, cprofile]   \n412     2018.0   [acs, acs5, profile]   \n413     2018.0   [acs, acs5, subject]   \n\n                                       c_geographyLink  \\\n407  https://api.census.gov/data/2018/acs/acs5/geog...   \n410  https://api.census.gov/data/2018/acs/acs5/cpro...   \n412  https://api.census.gov/data/2018/acs/acs5/prof...   \n413  https://api.census.gov/data/2018/acs/acs5/subj...   \n\n                                       c_variablesLink  \\\n407  https://api.census.gov/data/2018/acs/acs5/vari...   \n410  https://api.census.gov/data/2018/acs/acs5/cpro...   \n412  https://api.census.gov/data/2018/acs/acs5/prof...   \n413  https://api.census.gov/data/2018/acs/acs5/subj...   \n\n                                            c_tagsLink  \\\n407  https://api.census.gov/data/2018/acs/acs5/tags...   \n410  https://api.census.gov/data/2018/acs/acs5/cpro...   \n412  https://api.census.gov/data/2018/acs/acs5/prof...   \n413  https://api.census.gov/data/2018/acs/acs5/subj...   \n\n                                        c_examplesLink  \\\n407  https://api.census.gov/data/2018/acs/acs5/exam...   \n410  https://api.census.gov/data/2018/acs/acs5/cpro...   \n412  https://api.census.gov/data/2018/acs/acs5/prof...   \n413  https://api.census.gov/data/2018/acs/acs5/subj...   \n\n                                          c_groupsLink  \\\n407  https://api.census.gov/data/2018/acs/acs5/grou...   \n410  https://api.census.gov/data/2018/acs/acs5/cpro...   \n412  https://api.census.gov/data/2018/acs/acs5/prof...   \n413  https://api.census.gov/data/2018/acs/acs5/subj...   \n\n                                          c_valuesLink  \\\n407  https://api.census.gov/data/2018/acs/acs5/valu...   \n410  https://api.census.gov/data/2018/acs/acs5/cpro...   \n412  https://api.census.gov/data/2018/acs/acs5/prof...   \n413  https://api.census.gov/data/2018/acs/acs5/subj...   \n\n                   c_documentationLink c_isAggregate  ...  \\\n407  https://www.census.gov/developer/          True  ...   \n410  https://www.census.gov/developer/          True  ...   \n412  https://www.census.gov/developer/          True  ...   \n413  https://www.census.gov/developer/          True  ...   \n\n                                               license               modified  \\\n407  https://creativecommons.org/publicdomain/zero/...  2019-10-22 16:28:02.0   \n410  https://creativecommons.org/publicdomain/zero/...  2019-10-22 14:54:09.0   \n412  https://creativecommons.org/publicdomain/zero/...  2019-10-22 16:22:18.0   \n413  https://creativecommons.org/publicdomain/zero/...  2019-10-22 15:36:29.0   \n\n    programCode                            references spatial      temporal  \\\n407   [006:004]  [https://www.census.gov/developers/]     NaN  unidentified   \n410   [006:004]  [https://www.census.gov/developers/]     NaN  unidentified   \n412   [006:004]  [https://www.census.gov/developers/]     NaN  unidentified   \n413   [006:004]  [https://www.census.gov/developers/]     NaN  unidentified   \n\n                                             publisher accessLevel bureauCode  \\\n407  {'@type': 'org:Organization', 'name': 'U.S. Ce...         NaN        NaN   \n410  {'@type': 'org:Organization', 'name': 'U.S. Ce...         NaN        NaN   \n412  {'@type': 'org:Organization', 'name': 'U.S. Ce...         NaN        NaN   \n413  {'@type': 'org:Organization', 'name': 'U.S. Ce...         NaN        NaN   \n\n    c_isTimeseries  \n407            NaN  \n410            NaN  \n412            NaN  \n413            NaN  \n\n[4 rows x 29 columns]"
     },
     "execution_count": 3,
     "metadata": {},
     "output_type": "execute_result"
    }
   ],
   "source": [
    "datasets = datasets_census(dataset = 'acs5', vintage = 2018)\n",
    "datasets.head()"
   ]
  },
  {
   "cell_type": "code",
   "execution_count": 4,
   "metadata": {},
   "outputs": [
    {
     "name": "stdout",
     "output_type": "stream",
     "text": "['c_vintage', 'c_dataset', 'c_geographyLink', 'c_variablesLink', 'c_tagsLink', 'c_examplesLink', 'c_groupsLink', 'c_valuesLink', 'c_documentationLink', 'c_isAggregate', 'c_isCube', 'c_isAvailable', '@type', 'title', 'description', 'distribution', 'contactPoint', 'identifier', 'keyword', 'license', 'modified', 'programCode', 'references', 'spatial', 'temporal', 'publisher', 'accessLevel', 'bureauCode', 'c_isTimeseries']\n"
    }
   ],
   "source": [
    "print(list(datasets))"
   ]
  },
  {
   "cell_type": "code",
   "execution_count": 5,
   "metadata": {},
   "outputs": [
    {
     "name": "stdout",
     "output_type": "stream",
     "text": "https://api.census.gov/data/2018/acs/acs5/geography.json\nhttps://api.census.gov/data/2018/acs/acs5/cprofile/geography.json\nhttps://api.census.gov/data/2018/acs/acs5/profile/geography.json\nhttps://api.census.gov/data/2018/acs/acs5/subject/geography.json\n"
    }
   ],
   "source": [
    "for elem in datasets['c_geographyLink']:\n",
    "    print(elem)"
   ]
  },
  {
   "cell_type": "code",
   "execution_count": 6,
   "metadata": {},
   "outputs": [
    {
     "data": {
      "text/plain": "['label',\n 'concept',\n 'predicateType',\n 'group',\n 'limit',\n 'predicateOnly',\n 'attributes',\n 'required']"
     },
     "execution_count": 6,
     "metadata": {},
     "output_type": "execute_result"
    }
   ],
   "source": [
    "var_url = datasets.iloc[0,3]\n",
    "\n",
    "def parse_dataset_varlist(url):\n",
    "    response = requests.get(url)\n",
    "    response = response.json()\n",
    "    response = response['variables']\n",
    "    df = pd.DataFrame.from_dict(response, orient = 'index')\n",
    "    return(df)\n",
    "variables = parse_dataset_varlist(var_url)\n",
    "list(variables)"
   ]
  },
  {
   "cell_type": "code",
   "execution_count": 7,
   "metadata": {},
   "outputs": [
    {
     "data": {
      "text/html": "<div>\n<style scoped>\n    .dataframe tbody tr th:only-of-type {\n        vertical-align: middle;\n    }\n\n    .dataframe tbody tr th {\n        vertical-align: top;\n    }\n\n    .dataframe thead th {\n        text-align: right;\n    }\n</style>\n<table border=\"1\" class=\"dataframe\">\n  <thead>\n    <tr style=\"text-align: right;\">\n      <th></th>\n      <th>name</th>\n      <th>geoLevelDisplay</th>\n      <th>referenceDate</th>\n      <th>requires</th>\n      <th>wildcard</th>\n      <th>optionalWithWCFor</th>\n    </tr>\n  </thead>\n  <tbody>\n    <tr>\n      <th>8</th>\n      <td>tract</td>\n      <td>140</td>\n      <td>2018-01-01</td>\n      <td>[state, county]</td>\n      <td>[county]</td>\n      <td>county</td>\n    </tr>\n  </tbody>\n</table>\n</div>",
      "text/plain": "    name geoLevelDisplay referenceDate         requires  wildcard  \\\n8  tract             140    2018-01-01  [state, county]  [county]   \n\n  optionalWithWCFor  \n8            county  "
     },
     "execution_count": 7,
     "metadata": {},
     "output_type": "execute_result"
    }
   ],
   "source": [
    "geo_url = datasets.iloc[0,2]\n",
    "\n",
    "def parse_dataset_geography(url):\n",
    "    response = requests.get(url)\n",
    "    response = response.json()\n",
    "    response = response['fips']\n",
    "    df = pd.DataFrame(response)\n",
    "    return(df)\n",
    "\n",
    "geography = parse_dataset_geography(geo_url)\n",
    "geography[geography['name'] == 'tract']"
   ]
  },
  {
   "cell_type": "code",
   "execution_count": 12,
   "metadata": {},
   "outputs": [],
   "source": [
    "def api_call_url(base, dataset_vars, geography, key = ''):\n",
    "    get = f\"?get={','.join(dataset_vars)}\"\n",
    "    geo_for = f\"&for={geography['geo_for']}\"\n",
    "    geo_in = f\"&in={geography['geo_in']}\"\n",
    "    key = f\"&key={key}\"\n",
    "\n",
    "    url = base + get + geo_for + geo_in + key\n",
    "    return(url)\n",
    "\n",
    "def _api_call(url):\n",
    "    response = requests.get(url)\n",
    "    response = response.text\n",
    "    #response = response.split(\"\\n\")\n",
    "    return(response)\n",
    "\n",
    "def api_call(base, dataset_vars, geography, key = ''):\n",
    "    url = api_call_url(base, dataset_vars, geography, key)\n",
    "    response = _api_call(url)\n",
    "    return(response)"
   ]
  },
  {
   "cell_type": "code",
   "execution_count": 14,
   "metadata": {},
   "outputs": [
    {
     "name": "stdout",
     "output_type": "stream",
     "text": "sus Tract 417, Houston County, Alabama\",\"-666666666\",\"01\",\"069\",\"041700\"],\n[\"Census Tract 404, Houston County, Alabama\",\"-666666666\",\"01\",\"069\",\"040400\"],\n[\"Census Tract 402.01, Houston County, Alabama\",\"-666666666\",\"01\",\"069\",\"040201\"],\n[\"Census Tract 9611, DeKalb County, Alabama\",\"-666666666\",\"01\",\"049\",\"961100\"],\n[\"Census Tract 9604, DeKalb County, Alabama\",\"-666666666\",\"01\",\"049\",\"960400\"],\n[\"Census Tract 9605, DeKalb County, Alabama\",\"-666666666\",\"01\",\"049\",\"960500\"],\n[\"Census Tract 9608, DeKalb County, Alabama\",\"-666666666\",\"01\",\"049\",\"960800\"],\n[\"Census Tract 9612, DeKalb County, Alabama\",\"-666666666\",\"01\",\"049\",\"961200\"],\n[\"Census Tract 9614, DeKalb County, Alabama\",\"-666666666\",\"01\",\"049\",\"961400\"],\n[\"Census Tract 9610, DeKalb County, Alabama\",\"-666666666\",\"01\",\"049\",\"961000\"],\n[\"Census Tract 9603, DeKalb County, Alabama\",\"-666666666\",\"01\",\"049\",\"960300\"],\n[\"Census Tract 9609, DeKalb County, Alabama\",\"-666666666\",\"01\",\"049\",\"960900\"],\n[\"Census Tract 9613, DeKalb County, Alabama\",\"-666666666\",\"01\",\"049\",\"961300\"],\n[\"Census Tract 9601, DeKalb County, Alabama\",\"-666666666\",\"01\",\"049\",\"960100\"],\n[\"Census Tract 9607, DeKalb County, Alabama\",\"-666666666\",\"01\",\"049\",\"960700\"],\n[\"Census Tract 9706, Escambia County, Alabama\",\"-666666666\",\"01\",\"053\",\"970600\"],\n[\"Census Tract 9701, Escambia County, Alabama\",\"-666666666\",\"01\",\"053\",\"970100\"],\n[\"Census Tract 9704, Escambia County, Alabama\",\"-666666666\",\"01\",\"053\",\"970400\"],\n[\"Census Tract 9707, Escambia County, Alabama\",\"-666666666\",\"01\",\"053\",\"970700\"],\n[\"Census Tract 9698, Escambia County, Alabama\",\"-666666666\",\"01\",\"053\",\"969800\"],\n[\"Census Tract 9702, Escambia County, Alabama\",\"-666666666\",\"01\",\"053\",\"970200\"],\n[\"Census Tract 9703, Escambia County, Alabama\",\"-666666666\",\"01\",\"053\",\"970300\"],\n[\"Census Tract 9705, Escambia County, Alabama\",\"-666666666\",\"01\",\"053\",\"970500\"],\n[\"Census Tract 9699, Escambia County, Alabama\",\"-666666666\",\"01\",\"053\",\"969900\"],\n[\"Census Tract 302, Lamar County, Alabama\",\"-666666666\",\"01\",\"075\",\"030200\"],\n[\"Census Tract 300, Lamar County, Alabama\",\"-666666666\",\"01\",\"075\",\"030000\"],\n[\"Census Tract 301, Lamar County, Alabama\",\"-666666666\",\"01\",\"075\",\"030100\"],\n[\"Census Tract 9527, Butler County, Alabama\",\"-666666666\",\"01\",\"013\",\"952700\"],\n[\"Census Tract 9529, Butler County, Alabama\",\"-666666666\",\"01\",\"013\",\"952900\"],\n[\"Census Tract 9530, Butler County, Alabama\",\"-666666666\",\"01\",\"013\",\"953000\"],\n[\"Census Tract 9533, Butler County, Alabama\",\"-666666666\",\"01\",\"013\",\"953300\"],\n[\"Census Tract 9534, Butler County, Alabama\",\"-666666666\",\"01\",\"013\",\"953400\"],\n[\"Census Tract 14.02, Madison County, Alabama\",\"-666666666\",\"01\",\"089\",\"001402\"],\n[\"Census Tract 30, Madison County, Alabama\",\"-666666666\",\"01\",\"089\",\"003000\"],\n[\"Census Tract 31, Madison County, Alabama\",\"-666666666\",\"01\",\"089\",\"003100\"],\n[\"Census Tract 106.23, Madison County, Alabama\",\"-666666666\",\"01\",\"089\",\"010623\"],\n[\"Census Tract 106.24, Madison County, Alabama\",\"-666666666\",\"01\",\"089\",\"010624\"],\n[\"Census Tract 9729, Marengo County, Alabama\",\"-666666666\",\"01\",\"091\",\"972900\"],\n[\"Census Tract 9730, Marengo County, Alabama\",\"-666666666\",\"01\",\"091\",\"973000\"],\n[\"Census Tract 9731, Marengo County, Alabama\",\"-666666666\",\"01\",\"091\",\"973100\"],\n[\"Census Tract 9732, Marengo County, Alabama\",\"-666666666\",\"01\",\"091\",\"973200\"],\n[\"Census Tract 9733, Marengo County, Alabama\",\"-666666666\",\"01\",\"091\",\"973300\"],\n[\"Census Tract 9734, Marengo County, Alabama\",\"-666666666\",\"01\",\"091\",\"973400\"],\n[\"Census Tract 9640, Marion County, Alabama\",\"-666666666\",\"01\",\"093\",\"964000\"],\n[\"Census Tract 9641, Marion County, Alabama\",\"-666666666\",\"01\",\"093\",\"964100\"],\n[\"Census Tract 9642, Marion County, Alabama\",\"-666666666\",\"01\",\"093\",\"964200\"],\n[\"Census Tract 9643, Marion County, Alabama\",\"-666666666\",\"01\",\"093\",\"964300\"],\n[\"Census Tract 9644, Marion County, Alabama\",\"-666666666\",\"01\",\"093\",\"964400\"],\n[\"Census Tract 9645, Marion County, Alabama\",\"-666666666\",\"01\",\"093\",\"964500\"],\n[\"Census Tract 9646, Marion County, Alabama\",\"-666666666\",\"01\",\"093\",\"964600\"],\n[\"Census Tract 9647, Marion County, Alabama\",\"-666666666\",\"01\",\"093\",\"964700\"],\n[\"Census Tract 304.01, Marshall County, Alabama\",\"-666666666\",\"01\",\"095\",\"030401\"],\n[\"Census Tract 304.02, Marshall County, Alabama\",\"-666666666\",\"01\",\"095\",\"030402\"],\n[\"Census Tract 307.01, Marshall County, Alabama\",\"-666666666\",\"01\",\"095\",\"030701\"],\n[\"Census Tract 64.06, Mobile County, Alabama\",\"-666666666\",\"01\",\"097\",\"006406\"],\n[\"Census Tract 307.02, Marshall County, Alabama\",\"-666666666\",\"01\",\"095\",\"030702\"],\n[\"Census Tract 309.03, Marshall County, Alabama\",\"-666666666\",\"01\",\"095\",\"030903\"],\n[\"Census Tract 309.04, Marshall County, Alabama\",\"-666666666\",\"01\",\"095\",\"030904\"],\n[\"Census Tract 51.08, Morgan County, Alabama\",\"-666666666\",\"01\",\"103\",\"005108\"],\n[\"Census Tract 51.09, Morgan County, Alabama\",\"-666666666\",\"01\",\"103\",\"005109\"],\n[\"Census Tract 57.01, Morgan County, Alabama\",\"-666666666\",\"01\",\"103\",\"005701\"],\n[\"Census Tract 57.02, Morgan County, Alabama\",\"-666666666\",\"01\",\"103\",\"005702\"],\n[\"Census Tract 6868, Perry County, Alabama\",\"-666666666\",\"01\",\"105\",\"686800\"],\n[\"Census Tract 6870, Perry County, Alabama\",\"-666666666\",\"01\",\"105\",\"687000\"],\n[\"Census Tract 6871, Perry County, Alabama\",\"-666666666\",\"01\",\"105\",\"687100\"],\n[\"Census Tract 1886, Pike County, Alabama\",\"-666666666\",\"01\",\"109\",\"188600\"],\n[\"Census Tract 1887, Pike County, Alabama\",\"-666666666\",\"01\",\"109\",\"188700\"],\n[\"Census Tract 1888, Pike County, Alabama\",\"-666666666\",\"01\",\"109\",\"188800\"],\n[\"Census Tract 1889, Pike County, Alabama\",\"-666666666\",\"01\",\"109\",\"188900\"],\n[\"Census Tract 1890, Pike County, Alabama\",\"-666666666\",\"01\",\"109\",\"189000\"],\n[\"Census Tract 1891, Pike County, Alabama\",\"-666666666\",\"01\",\"109\",\"189100\"],\n[\"Census Tract 1892, Pike County, Alabama\",\"-666666666\",\"01\",\"109\",\"189200\"],\n[\"Census Tract 402.02, Houston County, Alabama\",\"-666666666\",\"01\",\"069\",\"040202\"],\n[\"Census Tract 412, Houston County, Alabama\",\"-666666666\",\"01\",\"069\",\"041200\"],\n[\"Census Tract 405, Houston County, Alabama\",\"-666666666\",\"01\",\"069\",\"040500\"],\n[\"Census Tract 415, Houston County, Alabama\",\"-666666666\",\"01\",\"069\",\"041500\"],\n[\"Census Tract 420, Houston County, Alabama\",\"-666666666\",\"01\",\"069\",\"042000\"],\n[\"Census Tract 401, Houston County, Alabama\",\"-666666666\",\"01\",\"069\",\"040100\"],\n[\"Census Tract 407, Houston County, Alabama\",\"-666666666\",\"01\",\"069\",\"040700\"],\n[\"Census Tract 410, Houston County, Alabama\",\"-666666666\",\"01\",\"069\",\"041000\"],\n[\"Census Tract 411, Houston County, Alabama\",\"-666666666\",\"01\",\"069\",\"041100\"],\n[\"Census Tract 418, Houston County, Alabama\",\"-666666666\",\"01\",\"069\",\"041800\"],\n[\"Census Tract 419, Houston County, Alabama\",\"-666666666\",\"01\",\"069\",\"041900\"],\n[\"Census Tract 416, Houston County, Alabama\",\"-666666666\",\"01\",\"069\",\"041600\"],\n[\"Census Tract 406, Houston County, Alabama\",\"-666666666\",\"01\",\"069\",\"040600\"],\n[\"Census Tract 9507, Jackson County, Alabama\",\"-666666666\",\"01\",\"071\",\"950700\"],\n[\"Census Tract 9511, Jackson County, Alabama\",\"-666666666\",\"01\",\"071\",\"951100\"],\n[\"Census Tract 9502, Jackson County, Alabama\",\"-666666666\",\"01\",\"071\",\"950200\"],\n[\"Census Tract 9503, Jackson County, Alabama\",\"-666666666\",\"01\",\"071\",\"950300\"],\n[\"Census Tract 9506, Jackson County, Alabama\",\"-666666666\",\"01\",\"071\",\"950600\"],\n[\"Census Tract 9501, Jackson County, Alabama\",\"-666666666\",\"01\",\"071\",\"950100\"],\n[\"Census Tract 9510, Jackson County, Alabama\",\"-666666666\",\"01\",\"071\",\"951000\"],\n[\"Census Tract 9505, Jackson County, Alabama\",\"-666666666\",\"01\",\"071\",\"950500\"],\n[\"Census Tract 9508, Jackson County, Alabama\",\"-666666666\",\"01\",\"071\",\"950800\"],\n[\"Census Tract 9509, Jackson County, Alabama\",\"-666666666\",\"01\",\"071\",\"950900\"],\n[\"Census Tract 9504, Jackson County, Alabama\",\"-666666666\",\"01\",\"071\",\"950400\"],\n[\"Census Tract 116, Talladega County, Alabama\",\"-666666666\",\"01\",\"121\",\"011600\"],\n[\"Census Tract 117, Talladega County, Alabama\",\"-666666666\",\"01\",\"121\",\"011700\"],\n[\"Census Tract 111, Talladega County, Alabama\",\"-666666666\",\"01\",\"121\",\"011100\"],\n[\"Census Tract 113, Talladega County, Alabama\",\"-666666666\",\"01\",\"121\",\"011300\"],\n[\"Census Tract 115, Talladega County, Alabama\",\"-666666666\",\"01\",\"121\",\"011500\"],\n[\"Census Tract 105, Talladega County, Alabama\",\"-666666666\",\"01\",\"121\",\"010500\"],\n[\"Census Tract 114, Talladega County, Alabama\",\"-666666666\",\"01\",\"121\",\"011400\"],\n[\"Census Tract 107, Talladega County, Alabama\",\"-666666666\",\"01\",\"121\",\"010700\"],\n[\"Census Tract 109, Talladega County, Alabama\",\"-666666666\",\"01\",\"121\",\"010900\"],\n[\"Census Tract 112, Talladega County, Alabama\",\"-666666666\",\"01\",\"121\",\"011200\"],\n[\"Census Tract 9531, Butler County, Alabama\",\"-666666666\",\"01\",\"013\",\"953100\"],\n[\"Census Tract 9532, Butler County, Alabama\",\"-666666666\",\"01\",\"013\",\"953200\"],\n[\"Census Tract 9535, Butler County, Alabama\",\"-666666666\",\"01\",\"013\",\"953500\"],\n[\"Census Tract 9528, Butler County, Alabama\",\"-666666666\",\"01\",\"013\",\"952800\"],\n[\"Census Tract 9.01, Mobile County, Alabama\",\"-666666666\",\"01\",\"097\",\"000901\"],\n[\"Census Tract 10.01, Mobile County, Alabama\",\"-666666666\",\"01\",\"097\",\"001001\"],\n[\"Census Tract 18, Mobile County, Alabama\",\"-666666666\",\"01\",\"097\",\"001800\"],\n[\"Census Tract 21, Mobile County, Alabama\",\"-666666666\",\"01\",\"097\",\"002100\"],\n[\"Census Tract 26, Mobile County, Alabama\",\"-666666666\",\"01\",\"097\",\"002600\"],\n[\"Census Tract 30, Mobile County, Alabama\",\"-666666666\",\"01\",\"097\",\"003000\"],\n[\"Census Tract 34.04, Mobile County, Alabama\",\"-666666666\",\"01\",\"097\",\"003404\"],\n[\"Census Tract 7.01, Mobile County, Alabama\",\"-666666666\",\"01\",\"097\",\"000701\"],\n[\"Census Tract 14, Mobile County, Alabama\",\"-666666666\",\"01\",\"097\",\"001400\"],\n[\"Census Tract 23.01, Mobile County, Alabama\",\"-666666666\",\"01\",\"097\",\"002301\"],\n[\"Census Tract 25.02, Mobile County, Alabama\",\"-666666666\",\"01\",\"097\",\"002502\"],\n[\"Census Tract 32.05, Mobile County, Alabama\",\"-666666666\",\"01\",\"097\",\"003205\"],\n[\"Census Tract 36.08, Mobile County, Alabama\",\"-666666666\",\"01\",\"097\",\"003608\"],\n[\"Census Tract 36.02, Mobile County, Alabama\",\"-666666666\",\"01\",\"097\",\"003602\"],\n[\"Census Tract 35.02, Mobile County, Alabama\",\"-666666666\",\"01\",\"097\",\"003502\"],\n[\"Census Tract 15.01, Mobile County, Alabama\",\"-666666666\",\"01\",\"097\",\"001501\"],\n[\"Census Tract 29, Mobile County, Alabama\",\"-666666666\",\"01\",\"097\",\"002900\"],\n[\"Census Tract 32.04, Mobile County, Alabama\",\"-666666666\",\"01\",\"097\",\"003204\"],\n[\"Census Tract 36.05, Mobile County, Alabama\",\"-666666666\",\"01\",\"097\",\"003605\"],\n[\"Census Tract 35.01, Mobile County, Alabama\",\"-666666666\",\"01\",\"097\",\"003501\"],\n[\"Census Tract 62, Mobile County, Alabama\",\"-666666666\",\"01\",\"097\",\"006200\"],\n[\"Census Tract 69.01, Mobile County, Alabama\",\"-666666666\",\"01\",\"097\",\"006901\"],\n[\"Census Tract 40, Mobile County, Alabama\",\"-666666666\",\"01\",\"097\",\"004000\"],\n[\"Census Tract 61.04, Mobile County, Alabama\",\"-666666666\",\"01\",\"097\",\"006104\"],\n[\"Census Tract 2, Mobile County, Alabama\",\"-666666666\",\"01\",\"097\",\"000200\"],\n[\"Census Tract 6, Mobile County, Alabama\",\"-666666666\",\"01\",\"097\",\"000600\"],\n[\"Census Tract 9.02, Mobile County, Alabama\",\"-666666666\",\"01\",\"097\",\"000902\"],\n[\"Census Tract 10.02, Mobile County, Alabama\",\"-666666666\",\"01\",\"097\",\"001002\"],\n[\"Census Tract 25.01, Mobile County, Alabama\",\"-666666666\",\"01\",\"097\",\"002501\"],\n[\"Census Tract 118, Talladega County, Alabama\",\"-666666666\",\"01\",\"121\",\"011800\"],\n[\"Census Tract 104, Talladega County, Alabama\",\"-666666666\",\"01\",\"121\",\"010400\"],\n[\"Census Tract 106, Talladega County, Alabama\",\"-666666666\",\"01\",\"121\",\"010600\"],\n[\"Census Tract 120, Talladega County, Alabama\",\"-666666666\",\"01\",\"121\",\"012000\"],\n[\"Census Tract 119, Talladega County, Alabama\",\"-666666666\",\"01\",\"121\",\"011900\"],\n[\"Census Tract 110, Talladega County, Alabama\",\"-666666666\",\"01\",\"121\",\"011000\"],\n[\"Census Tract 101.01, Tuscaloosa County, Alabama\",\"-666666666\",\"01\",\"125\",\"010101\"],\n[\"Census Tract 102.04, Tuscaloosa County, Alabama\",\"-666666666\",\"01\",\"125\",\"010204\"],\n[\"Census Tract 103.01, Tuscaloosa County, Alabama\",\"-666666666\",\"01\",\"125\",\"010301\"],\n[\"Census Tract 103.02, Tuscaloosa County, Alabama\",\"-666666666\",\"01\",\"125\",\"010302\"],\n[\"Census Tract 125.03, Tuscaloosa County, Alabama\",\"-666666666\",\"01\",\"125\",\"012503\"],\n[\"Census Tract 107.01, Tuscaloosa County, Alabama\",\"-666666666\",\"01\",\"125\",\"010701\"],\n[\"Census Tract 108.02, Tuscaloosa County, Alabama\",\"-666666666\",\"01\",\"125\",\"010802\"],\n[\"Census Tract 124.05, Tuscaloosa County, Alabama\",\"-666666666\",\"01\",\"125\",\"012405\"],\n[\"Census Tract 101.02, Tuscaloosa County, Alabama\",\"-666666666\",\"01\",\"125\",\"010102\"],\n[\"Census Tract 102.01, Tuscaloosa County, Alabama\",\"-666666666\",\"01\",\"125\",\"010201\"],\n[\"Census Tract 104.07, Tuscaloosa County, Alabama\",\"-666666666\",\"01\",\"125\",\"010407\"],\n[\"Census Tract 106.01, Tuscaloosa County, Alabama\",\"-666666666\",\"01\",\"125\",\"010601\"],\n[\"Census Tract 108.04, Tuscaloosa County, Alabama\",\"-666666666\",\"01\",\"125\",\"010804\"],\n[\"Census Tract 123.05, Tuscaloosa County, Alabama\",\"-666666666\",\"01\",\"125\",\"012305\"],\n[\"Census Tract 124.04, Tuscaloosa County, Alabama\",\"-666666666\",\"01\",\"125\",\"012404\"],\n[\"Census Tract 102.02, Tuscaloosa County, Alabama\",\"-666666666\",\"01\",\"125\",\"010202\"],\n[\"Census Tract 104.06, Tuscaloosa County, Alabama\",\"-666666666\",\"01\",\"125\",\"010406\"],\n[\"Census Tract 105, Tuscaloosa County, Alabama\",\"-666666666\",\"01\",\"125\",\"010500\"],\n[\"Census Tract 106.02, Tuscaloosa County, Alabama\",\"-666666666\",\"01\",\"125\",\"010602\"],\n[\"Census Tract 107.02, Tuscaloosa County, Alabama\",\"-666666666\",\"01\",\"125\",\"010702\"],\n[\"Census Tract 103.03, Tuscaloosa County, Alabama\",\"-666666666\",\"01\",\"125\",\"010303\"],\n[\"Census Tract 104.03, Tuscaloosa County, Alabama\",\"-666666666\",\"01\",\"125\",\"010403\"],\n[\"Census Tract 104.04, Tuscaloosa County, Alabama\",\"-666666666\",\"01\",\"125\",\"010404\"],\n[\"Census Tract 120, Tuscaloosa County, Alabama\",\"-666666666\",\"01\",\"125\",\"012000\"],\n[\"Census Tract 302.15, Shelby County, Alabama\",\"-666666666\",\"01\",\"117\",\"030215\"],\n[\"Census Tract 302.16, Shelby County, Alabama\",\"-666666666\",\"01\",\"117\",\"030216\"],\n[\"Census Tract 302.17, Shelby County, Alabama\",\"-666666666\",\"01\",\"117\",\"030217\"],\n[\"Census Tract 303.32, Shelby County, Alabama\",\"-666666666\",\"01\",\"117\",\"030332\"],\n[\"Census Tract 303.33, Shelby County, Alabama\",\"-666666666\",\"01\",\"117\",\"030333\"],\n[\"Census Tract 303.34, Shelby County, Alabama\",\"-666666666\",\"01\",\"117\",\"030334\"],\n[\"Census Tract 303.36, Shelby County, Alabama\",\"-666666666\",\"01\",\"117\",\"030336\"],\n[\"Census Tract 303.37, Shelby County, Alabama\",\"-666666666\",\"01\",\"117\",\"030337\"],\n[\"Census Tract 303.40, Shelby County, Alabama\",\"-666666666\",\"01\",\"117\",\"030340\"],\n[\"Census Tract 303.41, Shelby County, Alabama\",\"-666666666\",\"01\",\"117\",\"030341\"],\n[\"Census Tract 303.42, Shelby County, Alabama\",\"-666666666\",\"01\",\"117\",\"030342\"],\n[\"Census Tract 303.44, Shelby County, Alabama\",\"-666666666\",\"01\",\"117\",\"030344\"],\n[\"Census Tract 303.45, Shelby County, Alabama\",\"-666666666\",\"01\",\"117\",\"030345\"],\n[\"Census Tract 304.05, Shelby County, Alabama\",\"-666666666\",\"01\",\"117\",\"030405\"],\n[\"Census Tract 304.06, Shelby County, Alabama\",\"-666666666\",\"01\",\"117\",\"030406\"],\n[\"Census Tract 304.07, Shelby County, Alabama\",\"-666666666\",\"01\",\"117\",\"030407\"],\n[\"Census Tract 304.08, Shelby County, Alabama\",\"-666666666\",\"01\",\"117\",\"030408\"],\n[\"Census Tract 305.01, Shelby County, Alabama\",\"-666666666\",\"01\",\"117\",\"030501\"],\n[\"Census Tract 305.02, Shelby County, Alabama\",\"-666666666\",\"01\",\"117\",\"030502\"],\n[\"Census Tract 307.03, Shelby County, Alabama\",\"-666666666\",\"01\",\"117\",\"030703\"],\n[\"Census Tract 307.04, Shelby County, Alabama\",\"-666666666\",\"01\",\"117\",\"030704\"],\n[\"Census Tract 309, Shelby County, Alabama\",\"-666666666\",\"01\",\"117\",\"030900\"],\n[\"Census Tract 9800, Shelby County, Alabama\",\"-666666666\",\"01\",\"117\",\"980000\"],\n[\"Census Tract 113, Sumter County, Alabama\",\"-666666666\",\"01\",\"119\",\"011300\"],\n[\"Census Tract 114, Sumter County, Alabama\",\"-666666666\",\"01\",\"119\",\"011400\"],\n[\"Census Tract 115, Sumter County, Alabama\",\"-666666666\",\"01\",\"119\",\"011500\"],\n[\"Census Tract 102.01, Talladega County, Alabama\",\"-666666666\",\"01\",\"121\",\"010201\"],\n[\"Census Tract 116, Sumter County, Alabama\",\"-666666666\",\"01\",\"119\",\"011600\"],\n[\"Census Tract 101.01, Talladega County, Alabama\",\"-666666666\",\"01\",\"121\",\"010101\"],\n[\"Census Tract 101.02, Talladega County, Alabama\",\"-666666666\",\"01\",\"121\",\"010102\"],\n[\"Census Tract 102.02, Talladega County, Alabama\",\"-666666666\",\"01\",\"121\",\"010202\"],\n[\"Census Tract 103.01, Talladega County, Alabama\",\"-666666666\",\"01\",\"121\",\"010301\"],\n[\"Census Tract 103.02, Talladega County, Alabama\",\"-666666666\",\"01\",\"121\",\"010302\"],\n[\"Census Tract 9619, Tallapoosa County, Alabama\",\"-666666666\",\"01\",\"123\",\"961900\"],\n[\"Census Tract 123.04, Tuscaloosa County, Alabama\",\"-666666666\",\"01\",\"125\",\"012304\"],\n[\"Census Tract 128, Tuscaloosa County, Alabama\",\"-666666666\",\"01\",\"125\",\"012800\"],\n[\"Census Tract 112, Tuscaloosa County, Alabama\",\"-666666666\",\"01\",\"125\",\"011200\"],\n[\"Census Tract 123.03, Tuscaloosa County, Alabama\",\"-666666666\",\"01\",\"125\",\"012303\"],\n[\"Census Tract 28, Mobile County, Alabama\",\"-666666666\",\"01\",\"097\",\"002800\"],\n[\"Census Tract 33.02, Mobile County, Alabama\",\"-666666666\",\"01\",\"097\",\"003302\"],\n[\"Census Tract 34.07, Mobile County, Alabama\",\"-666666666\",\"01\",\"097\",\"003407\"],\n[\"Census Tract 37.04, Mobile County, Alabama\",\"-666666666\",\"01\",\"097\",\"003704\"],\n[\"Census Tract 37.05, Mobile County, Alabama\",\"-666666666\",\"01\",\"097\",\"003705\"],\n[\"Census Tract 41, Mobile County, Alabama\",\"-666666666\",\"01\",\"097\",\"004100\"],\n[\"Census Tract 52, Mobile County, Alabama\",\"-666666666\",\"01\",\"097\",\"005200\"],\n[\"Census Tract 63.02, Mobile County, Alabama\",\"-666666666\",\"01\",\"097\",\"006302\"],\n[\"Census Tract 64.02, Mobile County, Alabama\",\"-666666666\",\"01\",\"097\",\"006402\"],\n[\"Census Tract 64.04, Mobile County, Alabama\",\"-666666666\",\"01\",\"097\",\"006404\"],\n[\"Census Tract 69.02, Mobile County, Alabama\",\"-666666666\",\"01\",\"097\",\"006902\"],\n[\"Census Tract 70, Mobile County, Alabama\",\"-666666666\",\"01\",\"097\",\"007000\"],\n[\"Census Tract 71.02, Mobile County, Alabama\",\"-666666666\",\"01\",\"097\",\"007102\"],\n[\"Census Tract 73, Mobile County, Alabama\",\"-666666666\",\"01\",\"097\",\"007300\"],\n[\"Census Tract 15.02, Mobile County, Alabama\",\"-666666666\",\"01\",\"097\",\"001502\"],\n[\"Census Tract 4.02, Mobile County, Alabama\",\"-666666666\",\"01\",\"097\",\"000402\"],\n[\"Census Tract 9.03, Mobile County, Alabama\",\"-666666666\",\"01\",\"097\",\"000903\"],\n[\"Census Tract 34.06, Mobile County, Alabama\",\"-666666666\",\"01\",\"097\",\"003406\"],\n[\"Census Tract 36.06, Mobile County, Alabama\",\"-666666666\",\"01\",\"097\",\"003606\"],\n[\"Census Tract 36.07, Mobile County, Alabama\",\"-666666666\",\"01\",\"097\",\"003607\"],\n[\"Census Tract 37.06, Mobile County, Alabama\",\"-666666666\",\"01\",\"097\",\"003706\"],\n[\"Census Tract 39.01, Mobile County, Alabama\",\"-666666666\",\"01\",\"097\",\"003901\"],\n[\"Census Tract 51, Mobile County, Alabama\",\"-666666666\",\"01\",\"097\",\"005100\"],\n[\"Census Tract 54, Mobile County, Alabama\",\"-666666666\",\"01\",\"097\",\"005400\"],\n[\"Census Tract 55, Mobile County, Alabama\",\"-666666666\",\"01\",\"097\",\"005500\"],\n[\"Census Tract 61.02, Mobile County, Alabama\",\"-666666666\",\"01\",\"097\",\"006102\"],\n[\"Census Tract 63.01, Mobile County, Alabama\",\"-666666666\",\"01\",\"097\",\"006301\"],\n[\"Census Tract 66, Mobile County, Alabama\",\"-666666666\",\"01\",\"097\",\"006600\"],\n[\"Census Tract 13.02, Mobile County, Alabama\",\"-666666666\",\"01\",\"097\",\"001302\"],\n[\"Census Tract 53, Mobile County, Alabama\",\"-666666666\",\"01\",\"097\",\"005300\"],\n[\"Census Tract 37.07, Mobile County, Alabama\",\"-666666666\",\"01\",\"097\",\"003707\"],\n[\"Census Tract 37.08, Mobile County, Alabama\",\"-666666666\",\"01\",\"097\",\"003708\"],\n[\"Census Tract 37.09, Mobile County, Alabama\",\"-666666666\",\"01\",\"097\",\"003709\"],\n[\"Census Tract 61.03, Mobile County, Alabama\",\"-666666666\",\"01\",\"097\",\"006103\"],\n[\"Census Tract 125.02, Tuscaloosa County, Alabama\",\"-666666666\",\"01\",\"125\",\"012502\"],\n[\"Census Tract 68.02, Mobile County, Alabama\",\"-666666666\",\"01\",\"097\",\"006802\"],\n[\"Census Tract 71.03, Mobile County, Alabama\",\"-666666666\",\"01\",\"097\",\"007103\"],\n[\"Census Tract 125.01, Tuscaloosa County, Alabama\",\"-666666666\",\"01\",\"125\",\"012501\"],\n[\"Census Tract 126, Tuscaloosa County, Alabama\",\"-666666666\",\"01\",\"125\",\"012600\"]]\n"
    }
   ],
   "source": [
    "base = list(datasets['distribution'])[0][0]['accessURL']\n",
    "var_list = ['NAME','B19013E_001E']\n",
    "geography = {'geo_for':'tract:*', 'geo_in':'state:01'}\n",
    "key = ''\n",
    "\n",
    "api_call_url(base, var_list, geography, key)\n",
    "data = api_call(base, var_list, geography, key)\n",
    "for elem in data:\n",
    "    print(elem)"
   ]
  },
  {
   "cell_type": "code",
   "execution_count": null,
   "metadata": {},
   "outputs": [],
   "source": []
  }
 ]
}