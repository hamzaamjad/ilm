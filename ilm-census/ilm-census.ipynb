{
 "nbformat": 4,
 "nbformat_minor": 2,
 "metadata": {
  "language_info": {
   "name": "python",
   "codemirror_mode": {
    "name": "ipython",
    "version": 3
   },
   "version": "3.6.9-final"
  },
  "orig_nbformat": 2,
  "file_extension": ".py",
  "mimetype": "text/x-python",
  "name": "python",
  "npconvert_exporter": "python",
  "pygments_lexer": "ipython3",
  "version": 3,
  "kernelspec": {
   "name": "python36964bitanaconda3virtualenv13a21eee88724399b15fe21dce0fea4a",
   "display_name": "Python 3.6.9 64-bit ('anaconda3': virtualenv)"
  }
 },
 "cells": [
  {
   "cell_type": "code",
   "execution_count": 1,
   "metadata": {},
   "outputs": [],
   "source": [
    "import requests\n",
    "import pandas as pd\n",
    "import numpy as np\n",
    "import configparser\n",
    "import os\n",
    "\n",
    "# Create INI file to store various API credentials\n",
    "def generate_ini():\n",
    "    config = configparser.ConfigParser()\n",
    "    config['Census API'] = {}\n",
    "    config['Google APIs'] = {}\n",
    "    with open('ilm.ini', 'w') as configfile:\n",
    "        config.write(configfile)\n",
    "    print(\"ilm.ini created. Saved in\", os.getcwd())\n",
    "\n",
    "# Insert Google API keys into INI file\n",
    "# ini_google({'geocoding' : 'api_key_here'})\n",
    "def ini_google(api_keys = {}):\n",
    "    config = configparser.ConfigParser()\n",
    "    config.read('ilm.ini')\n",
    "    google = config['Google APIs']\n",
    "    try:\n",
    "        for k, v in api_keys.items():\n",
    "            google[k] = v\n",
    "    except:\n",
    "        print(\"Error\")\n",
    "    \n",
    "    with open('ilm.ini', 'w') as configfile:\n",
    "        config.write(configfile)\n",
    "    print(\"Keys successfuly inserted:\")\n",
    "    print(\"-------------------------------\")\n",
    "    for k, v in api_keys.items():\n",
    "        print(k,\"|\",google[k])\n",
    "\n",
    "# Read a specific variable from INI file\n",
    "# Typically used in other functions to pass API keys & passwords at runtime\n",
    "def read_ini(header, variable):\n",
    "    config = configparser.ConfigParser()\n",
    "    config.read('ilm.ini')\n",
    "    header_variable = config[header][variable]\n",
    "    return(header_variable)\n",
    "\n",
    "# References Google's Geocoding API\n",
    "# https://developers.google.com/maps/documentation/geocoding/start\n",
    "# Uses f-strings, Python 3.6+\n",
    "def geocode_address(address):\n",
    "    api_key = read_ini('Google APIs','geocoding')\n",
    "    address = [x.replace(\" \", \"+\") for x in address.split(\",\")]\n",
    "    url = f'https://maps.googleapis.com/maps/api/geocode/json?address={address[0]},{address[1]},{address[2]}&key={api_key}'\n",
    "    response = requests.get(url)\n",
    "    response = response.json()\n",
    "    try:\n",
    "        if response['status'] == 'REQUEST_DENIED':\n",
    "            print(response['status'])\n",
    "            return(response['error_message'])\n",
    "        elif response['status'] == 'OK':\n",
    "            result = response['results'][0]\n",
    "            output = {'address' : result['formatted_address'], 'location' : result['geometry']['location']}\n",
    "    except:\n",
    "        print(\"Error in geocoding. URL attempted: \", url)\n",
    "        return(url)\n",
    "    return(output)\n",
    "\n",
    "# Expects an 'address' dictionary output by geocode_address\n",
    "def address_parts(address, location):\n",
    "    address_parts = [x.strip() for x in address.split(\",\")]\n",
    "    output = {'address' : address, 'location' : location, 'address_parts' : {'street' : address_parts[0], 'city' : address_parts[1], 'state' : address_parts[2][:2], 'zip_code' : address_parts[2][-5:], 'country' : address_parts[3]}}\n",
    "    return(output)\n",
    "\n",
    "# Expects an 'address' dictionary output by geocode_address, with further modification by address_parts\n",
    "def address_census_keys(address, location, address_parts, benchmark = 'Public_AR_Current', vintage = 'ACS2019_Current'):\n",
    "    url = 'https://geocoding.geo.census.gov/geocoder/geographies/coordinates'\n",
    "    layers = ['2010 Census Blocks', 'Secondary School Districts', '2019 State Legislative Districts - Upper', 'County Subdivisions', 'Elementary School Districts', 'Metropolitan Statistical Areas', 'Counties', '2019 State Legislative Districts - Lower', 'Census Block Groups', 'Combined Statistical Areas', '2010 Census ZIP Code Tabulation Areas', 'Census Tracts']\n",
    "    url_params = {'x' : location['lng'], 'y' : location['lat'], 'benchmark' : benchmark, 'vintage' : vintage, 'layers' : layers, 'format' : 'json'}\n",
    "    response = requests.get(url, params = url_params)\n",
    "    result = response.json()['result']\n",
    "    geographies = {k1: {k2: v2 for k2, v2 in next(iter(v1 or []), dict()).items() if (k2 in ['GEOID', 'CENTLAT', 'BASENAME', 'NAME', 'CENTLON'])} for k1, v1 in result['geographies'].items()}\n",
    "    output = {'address' : address, 'location' : location, 'address_parts' : address_parts, 'geographies' : geographies}\n",
    "    return(output)\n",
    "\n",
    "# Sample call - datasets_census(vintage = 2017)\n",
    "def datasets_census(dataset = False, vintage = False):\n",
    "    urls = ['https://api.census.gov/data/2010.json','https://api.census.gov/data.json']\n",
    "    datasets = pd.DataFrame()\n",
    "    for url in urls:\n",
    "        response = requests.get(url)\n",
    "        response = response.json()\n",
    "        df = pd.DataFrame(response['dataset'])\n",
    "        if 'c_isTimeseries' not in df.columns:\n",
    "            df.insert(loc = len(df.columns), column = 'c_isTimeseries', value = np.nan)\n",
    "            datasets = pd.concat([datasets, df], sort = False, ignore_index = True)\n",
    "        else:\n",
    "            datasets = pd.concat([datasets, df], sort = False, ignore_index = True)\n",
    "            \n",
    "        if not dataset:\n",
    "            continue\n",
    "        else:\n",
    "            continue\n",
    "        \n",
    "        # vintage parameter\n",
    "        if not vintage:\n",
    "            continue\n",
    "        else:\n",
    "            datasets = datasets[datasets['c_vintage'] == vintage]     \n",
    "    return(datasets)"
   ]
  },
  {
   "cell_type": "markdown",
   "execution_count": 27,
   "metadata": {},
   "outputs": [],
   "source": [
    "Credentials are stored in _ilm.ini_ -- an `.ini` file generated in the working directory by calling `generate_ini()`. Users add various Google API keys to `ilm.ini` by calling `ini_google({'api': 'api_key'})`. Functions in the library will make use of credentails stored in `ilm.ini` -- users don't have to worry about key management. For testing purporses, variables stored in `ilm.ini` can be accessed by calling `read_ini('header', 'variable')`.\n",
    "\n"
   ]
  },
  {
   "cell_type": "code",
   "execution_count": 2,
   "metadata": {},
   "outputs": [
    {
     "name": "stdout",
     "output_type": "stream",
     "text": "ilm.ini created. Saved in /Users/hamzaamjad/OneDrive/Code/ilm/ilm-census\nKeys successfuly inserted:\n-------------------------------\ngeocoding | test\n"
    },
    {
     "data": {
      "text/plain": "'test'"
     },
     "execution_count": 2,
     "metadata": {},
     "output_type": "execute_result"
    }
   ],
   "source": [
    "# Create blank ilm.ini file in working directory\n",
    "generate_ini()\n",
    "# Can add multiple values. The following are supported: geocoding (Google Maps Geocoding API)\n",
    "ini_google({'geocoding' : 'test'})\n",
    "# Test .ini file to see if key was stored\n",
    "read_ini('Google APIs','geocoding')"
   ]
  },
  {
   "cell_type": "code",
   "execution_count": 9,
   "metadata": {},
   "outputs": [
    {
     "data": {
      "text/plain": "{'address': '2074 E Orange St, Tempe, AZ 85281, USA',\n 'location': {'lat': 33.4186146, 'lng': -111.8972182}}"
     },
     "execution_count": 9,
     "metadata": {},
     "output_type": "execute_result"
    }
   ],
   "source": [
    "geocode_address('2074 East Orange Street, Tempe, AZ')"
   ]
  },
  {
   "cell_type": "code",
   "execution_count": 12,
   "metadata": {},
   "outputs": [
    {
     "data": {
      "text/plain": "{'address': '1600 Pennsylvania Ave NW, Washington, DC 20500, USA',\n 'location': {'lat': 38.8976633, 'lng': -77.0365739}}"
     },
     "execution_count": 12,
     "metadata": {},
     "output_type": "execute_result"
    }
   ],
   "source": [
    "geocode_address('1600 Pennsylvania Ave NW, Washington, DC 20500')"
   ]
  },
  {
   "cell_type": "code",
   "execution_count": null,
   "metadata": {},
   "outputs": [],
   "source": []
  }
 ]
}