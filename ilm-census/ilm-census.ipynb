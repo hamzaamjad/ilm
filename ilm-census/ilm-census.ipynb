{
 "nbformat": 4,
 "nbformat_minor": 2,
 "metadata": {
  "language_info": {
   "name": "python",
   "codemirror_mode": {
    "name": "ipython",
    "version": 3
   },
   "version": "3.6.9-final"
  },
  "orig_nbformat": 2,
  "file_extension": ".py",
  "mimetype": "text/x-python",
  "name": "python",
  "npconvert_exporter": "python",
  "pygments_lexer": "ipython3",
  "version": 3,
  "kernelspec": {
   "name": "python36964bitanaconda3virtualenv13a21eee88724399b15fe21dce0fea4a",
   "display_name": "Python 3.6.9 64-bit ('anaconda3': virtualenv)"
  }
 },
 "cells": [
  {
   "cell_type": "code",
   "execution_count": 12,
   "metadata": {},
   "outputs": [],
   "source": [
    "import sys\n",
    "sys.path.append('..')\n",
    "from ilm_ini.ilm_ini import ini\n",
    "import os\n",
    "import ast\n",
    "\n",
    "import requests\n",
    "import pandas as pd\n",
    "import numpy as np\n",
    "\n",
    "# References Google's Geocoding API\n",
    "# https://developers.google.com/maps/documentation/geocoding/start\n",
    "# Uses f-strings, Python 3.6+\n",
    "def geocode_address(address):\n",
    "    api_key = ilm_ini.read('Google APIs','geocoding')\n",
    "    address = [x.replace(\" \", \"+\") for x in address.split(\",\")]\n",
    "    url = f'https://maps.googleapis.com/maps/api/geocode/json?address={address[0]},{address[1]},{address[2]}&key={api_key}'\n",
    "    response = requests.get(url)\n",
    "    response = response.json()\n",
    "    try:\n",
    "        if response['status'] == 'REQUEST_DENIED':\n",
    "            print(response['status'])\n",
    "            return(response['error_message'])\n",
    "        elif response['status'] == 'OK':\n",
    "            result = response['results'][0]\n",
    "            output = {'address' : result['formatted_address'], 'location' : result['geometry']['location']}\n",
    "    except:\n",
    "        print(\"Error in geocoding. URL attempted: \", url)\n",
    "        return(url)\n",
    "    return(output)\n",
    "\n",
    "# Expects an 'address' dictionary output by geocode_address\n",
    "def address_parts(address, location):\n",
    "    address_parts = [x.strip() for x in address.split(\",\")]\n",
    "    output = {'address' : address, 'location' : location, 'address_parts' : {'street' : address_parts[0], 'city' : address_parts[1], 'state' : address_parts[2][:2], 'zip_code' : address_parts[2][-5:], 'country' : address_parts[3]}}\n",
    "    return(output)\n",
    "\n",
    "# Expects an 'address' dictionary output by geocode_address, with further modification by address_parts\n",
    "def address_census_keys(address, location, address_parts, benchmark = 'Public_AR_Current', vintage = 'ACS2019_Current'):\n",
    "    url = 'https://geocoding.geo.census.gov/geocoder/geographies/coordinates'\n",
    "    layers = ['2010 Census Blocks', 'Secondary School Districts', '2019 State Legislative Districts - Upper', 'County Subdivisions', 'Elementary School Districts', 'Metropolitan Statistical Areas', 'Counties', '2019 State Legislative Districts - Lower', 'Census Block Groups', 'Combined Statistical Areas', '2010 Census ZIP Code Tabulation Areas', 'Census Tracts']\n",
    "    url_params = {'x' : location['lng'], 'y' : location['lat'], 'benchmark' : benchmark, 'vintage' : vintage, 'layers' : layers, 'format' : 'json'}\n",
    "    response = requests.get(url, params = url_params)\n",
    "    result = response.json()['result']\n",
    "    geographies = {k1: {k2: v2 for k2, v2 in next(iter(v1 or []), dict()).items() if (k2 in ['GEOID', 'CENTLAT', 'BASENAME', 'NAME', 'CENTLON'])} for k1, v1 in result['geographies'].items()}\n",
    "    output = {'address' : address, 'location' : location, 'address_parts' : address_parts, 'geographies' : geographies}\n",
    "    return(output)\n",
    "\n",
    "# Sample call - datasets_census(vintage = 2017)\n",
    "def datasets_census(dataset = False, vintage = False):\n",
    "    # URLs with list of datasets\n",
    "    urls = ['https://api.census.gov/data/2010.json','https://api.census.gov/data.json']\n",
    "\n",
    "    # Get list of datasets from both endpoints\n",
    "    datasets = pd.DataFrame()\n",
    "    for url in urls:\n",
    "        response = requests.get(url) # GET\n",
    "        response = response.json()\n",
    "        df = pd.DataFrame(response['dataset'])\n",
    "        if 'c_isTimeseries' not in df.columns:\n",
    "            df.insert(loc = len(df.columns), column = 'c_isTimeseries', value = np.nan)\n",
    "            datasets = pd.concat([datasets, df], sort = False, ignore_index = True)\n",
    "        else:\n",
    "            datasets = pd.concat([datasets, df], sort = False, ignore_index = True)\n",
    "\n",
    "    # vintage parameter\n",
    "    if vintage:\n",
    "        datasets = datasets[datasets['c_vintage'] == vintage]  \n",
    "\n",
    "    # dataset parameter        \n",
    "    if dataset:\n",
    "        dataset_tags = dict(zip(datasets['identifier'], datasets['c_dataset']))\n",
    "        df_ids = list(dict(filter(lambda elem: len(list(filter(lambda k: dataset in k, elem[1])))>0, dataset_tags.items())).keys())\n",
    "        datasets = datasets[datasets['identifier'].isin(df_ids)]\n",
    "\n",
    "    return(datasets)"
   ]
  },
  {
   "cell_type": "code",
   "execution_count": 10,
   "metadata": {},
   "outputs": [
    {
     "name": "stdout",
     "output_type": "stream",
     "text": "Existing INI file found. Loading credentials...\n"
    }
   ],
   "source": [
    "ilm_ini = ini()"
   ]
  },
  {
   "cell_type": "code",
   "execution_count": 11,
   "metadata": {},
   "outputs": [
    {
     "name": "stdout",
     "output_type": "stream",
     "text": "REQUEST_DENIED\n"
    },
    {
     "ename": "TypeError",
     "evalue": "address_parts() argument after ** must be a mapping, not str",
     "output_type": "error",
     "traceback": [
      "\u001b[0;31m---------------------------------------------------------------------------\u001b[0m",
      "\u001b[0;31mTypeError\u001b[0m                                 Traceback (most recent call last)",
      "\u001b[0;32m<ipython-input-11-f266572bfc90>\u001b[0m in \u001b[0;36m<module>\u001b[0;34m\u001b[0m\n\u001b[1;32m      1\u001b[0m \u001b[0morange\u001b[0m \u001b[0;34m=\u001b[0m \u001b[0mgeocode_address\u001b[0m\u001b[0;34m(\u001b[0m\u001b[0;34m'2074 East Orange Street, Tempe, AZ'\u001b[0m\u001b[0;34m)\u001b[0m\u001b[0;34m\u001b[0m\u001b[0;34m\u001b[0m\u001b[0m\n\u001b[0;32m----> 2\u001b[0;31m \u001b[0morange\u001b[0m \u001b[0;34m=\u001b[0m \u001b[0maddress_parts\u001b[0m\u001b[0;34m(\u001b[0m\u001b[0;34m**\u001b[0m\u001b[0morange\u001b[0m\u001b[0;34m)\u001b[0m\u001b[0;34m\u001b[0m\u001b[0;34m\u001b[0m\u001b[0m\n\u001b[0m\u001b[1;32m      3\u001b[0m \u001b[0morange\u001b[0m \u001b[0;34m=\u001b[0m \u001b[0maddress_census_keys\u001b[0m\u001b[0;34m(\u001b[0m\u001b[0;34m**\u001b[0m\u001b[0morange\u001b[0m\u001b[0;34m)\u001b[0m\u001b[0;34m\u001b[0m\u001b[0;34m\u001b[0m\u001b[0m\n\u001b[1;32m      4\u001b[0m \u001b[0mprint\u001b[0m\u001b[0;34m(\u001b[0m\u001b[0morange\u001b[0m\u001b[0;34m)\u001b[0m\u001b[0;34m\u001b[0m\u001b[0;34m\u001b[0m\u001b[0m\n",
      "\u001b[0;31mTypeError\u001b[0m: address_parts() argument after ** must be a mapping, not str"
     ]
    }
   ],
   "source": [
    "orange = geocode_address('2074 East Orange Street, Tempe, AZ')\n",
    "orange = address_parts(**orange)\n",
    "orange = address_census_keys(**orange)\n",
    "print(orange)"
   ]
  },
  {
   "cell_type": "code",
   "execution_count": 2,
   "metadata": {},
   "outputs": [
    {
     "data": {
      "text/html": "<div>\n<style scoped>\n    .dataframe tbody tr th:only-of-type {\n        vertical-align: middle;\n    }\n\n    .dataframe tbody tr th {\n        vertical-align: top;\n    }\n\n    .dataframe thead th {\n        text-align: right;\n    }\n</style>\n<table border=\"1\" class=\"dataframe\">\n  <thead>\n    <tr style=\"text-align: right;\">\n      <th></th>\n      <th>c_vintage</th>\n      <th>c_dataset</th>\n      <th>c_geographyLink</th>\n      <th>c_variablesLink</th>\n      <th>c_tagsLink</th>\n      <th>c_examplesLink</th>\n      <th>c_groupsLink</th>\n      <th>c_valuesLink</th>\n      <th>c_documentationLink</th>\n      <th>c_isAggregate</th>\n      <th>...</th>\n      <th>license</th>\n      <th>modified</th>\n      <th>programCode</th>\n      <th>references</th>\n      <th>spatial</th>\n      <th>temporal</th>\n      <th>publisher</th>\n      <th>accessLevel</th>\n      <th>bureauCode</th>\n      <th>c_isTimeseries</th>\n    </tr>\n  </thead>\n  <tbody>\n    <tr>\n      <th>408</th>\n      <td>2018.0</td>\n      <td>[acs, acs5]</td>\n      <td>https://api.census.gov/data/2018/acs/acs5/geog...</td>\n      <td>https://api.census.gov/data/2018/acs/acs5/vari...</td>\n      <td>https://api.census.gov/data/2018/acs/acs5/tags...</td>\n      <td>https://api.census.gov/data/2018/acs/acs5/exam...</td>\n      <td>https://api.census.gov/data/2018/acs/acs5/grou...</td>\n      <td>https://api.census.gov/data/2018/acs/acs5/valu...</td>\n      <td>https://www.census.gov/developer/</td>\n      <td>True</td>\n      <td>...</td>\n      <td>https://creativecommons.org/publicdomain/zero/...</td>\n      <td>2019-10-22 16:28:02.0</td>\n      <td>[006:004]</td>\n      <td>[https://www.census.gov/developers/]</td>\n      <td>NaN</td>\n      <td>unidentified</td>\n      <td>{'@type': 'org:Organization', 'name': 'U.S. Ce...</td>\n      <td>NaN</td>\n      <td>NaN</td>\n      <td>NaN</td>\n    </tr>\n    <tr>\n      <th>411</th>\n      <td>2018.0</td>\n      <td>[acs, acs5, cprofile]</td>\n      <td>https://api.census.gov/data/2018/acs/acs5/cpro...</td>\n      <td>https://api.census.gov/data/2018/acs/acs5/cpro...</td>\n      <td>https://api.census.gov/data/2018/acs/acs5/cpro...</td>\n      <td>https://api.census.gov/data/2018/acs/acs5/cpro...</td>\n      <td>https://api.census.gov/data/2018/acs/acs5/cpro...</td>\n      <td>https://api.census.gov/data/2018/acs/acs5/cpro...</td>\n      <td>https://www.census.gov/developer/</td>\n      <td>True</td>\n      <td>...</td>\n      <td>https://creativecommons.org/publicdomain/zero/...</td>\n      <td>2019-10-22 14:54:09.0</td>\n      <td>[006:004]</td>\n      <td>[https://www.census.gov/developers/]</td>\n      <td>NaN</td>\n      <td>unidentified</td>\n      <td>{'@type': 'org:Organization', 'name': 'U.S. Ce...</td>\n      <td>NaN</td>\n      <td>NaN</td>\n      <td>NaN</td>\n    </tr>\n    <tr>\n      <th>413</th>\n      <td>2018.0</td>\n      <td>[acs, acs5, profile]</td>\n      <td>https://api.census.gov/data/2018/acs/acs5/prof...</td>\n      <td>https://api.census.gov/data/2018/acs/acs5/prof...</td>\n      <td>https://api.census.gov/data/2018/acs/acs5/prof...</td>\n      <td>https://api.census.gov/data/2018/acs/acs5/prof...</td>\n      <td>https://api.census.gov/data/2018/acs/acs5/prof...</td>\n      <td>https://api.census.gov/data/2018/acs/acs5/prof...</td>\n      <td>https://www.census.gov/developer/</td>\n      <td>True</td>\n      <td>...</td>\n      <td>https://creativecommons.org/publicdomain/zero/...</td>\n      <td>2019-10-22 16:22:18.0</td>\n      <td>[006:004]</td>\n      <td>[https://www.census.gov/developers/]</td>\n      <td>NaN</td>\n      <td>unidentified</td>\n      <td>{'@type': 'org:Organization', 'name': 'U.S. Ce...</td>\n      <td>NaN</td>\n      <td>NaN</td>\n      <td>NaN</td>\n    </tr>\n    <tr>\n      <th>414</th>\n      <td>2018.0</td>\n      <td>[acs, acs5, subject]</td>\n      <td>https://api.census.gov/data/2018/acs/acs5/subj...</td>\n      <td>https://api.census.gov/data/2018/acs/acs5/subj...</td>\n      <td>https://api.census.gov/data/2018/acs/acs5/subj...</td>\n      <td>https://api.census.gov/data/2018/acs/acs5/subj...</td>\n      <td>https://api.census.gov/data/2018/acs/acs5/subj...</td>\n      <td>https://api.census.gov/data/2018/acs/acs5/subj...</td>\n      <td>https://www.census.gov/developer/</td>\n      <td>True</td>\n      <td>...</td>\n      <td>https://creativecommons.org/publicdomain/zero/...</td>\n      <td>2019-10-22 15:36:29.0</td>\n      <td>[006:004]</td>\n      <td>[https://www.census.gov/developers/]</td>\n      <td>NaN</td>\n      <td>unidentified</td>\n      <td>{'@type': 'org:Organization', 'name': 'U.S. Ce...</td>\n      <td>NaN</td>\n      <td>NaN</td>\n      <td>NaN</td>\n    </tr>\n  </tbody>\n</table>\n<p>4 rows × 29 columns</p>\n</div>",
      "text/plain": "     c_vintage              c_dataset  \\\n408     2018.0            [acs, acs5]   \n411     2018.0  [acs, acs5, cprofile]   \n413     2018.0   [acs, acs5, profile]   \n414     2018.0   [acs, acs5, subject]   \n\n                                       c_geographyLink  \\\n408  https://api.census.gov/data/2018/acs/acs5/geog...   \n411  https://api.census.gov/data/2018/acs/acs5/cpro...   \n413  https://api.census.gov/data/2018/acs/acs5/prof...   \n414  https://api.census.gov/data/2018/acs/acs5/subj...   \n\n                                       c_variablesLink  \\\n408  https://api.census.gov/data/2018/acs/acs5/vari...   \n411  https://api.census.gov/data/2018/acs/acs5/cpro...   \n413  https://api.census.gov/data/2018/acs/acs5/prof...   \n414  https://api.census.gov/data/2018/acs/acs5/subj...   \n\n                                            c_tagsLink  \\\n408  https://api.census.gov/data/2018/acs/acs5/tags...   \n411  https://api.census.gov/data/2018/acs/acs5/cpro...   \n413  https://api.census.gov/data/2018/acs/acs5/prof...   \n414  https://api.census.gov/data/2018/acs/acs5/subj...   \n\n                                        c_examplesLink  \\\n408  https://api.census.gov/data/2018/acs/acs5/exam...   \n411  https://api.census.gov/data/2018/acs/acs5/cpro...   \n413  https://api.census.gov/data/2018/acs/acs5/prof...   \n414  https://api.census.gov/data/2018/acs/acs5/subj...   \n\n                                          c_groupsLink  \\\n408  https://api.census.gov/data/2018/acs/acs5/grou...   \n411  https://api.census.gov/data/2018/acs/acs5/cpro...   \n413  https://api.census.gov/data/2018/acs/acs5/prof...   \n414  https://api.census.gov/data/2018/acs/acs5/subj...   \n\n                                          c_valuesLink  \\\n408  https://api.census.gov/data/2018/acs/acs5/valu...   \n411  https://api.census.gov/data/2018/acs/acs5/cpro...   \n413  https://api.census.gov/data/2018/acs/acs5/prof...   \n414  https://api.census.gov/data/2018/acs/acs5/subj...   \n\n                   c_documentationLink c_isAggregate  ...  \\\n408  https://www.census.gov/developer/          True  ...   \n411  https://www.census.gov/developer/          True  ...   \n413  https://www.census.gov/developer/          True  ...   \n414  https://www.census.gov/developer/          True  ...   \n\n                                               license               modified  \\\n408  https://creativecommons.org/publicdomain/zero/...  2019-10-22 16:28:02.0   \n411  https://creativecommons.org/publicdomain/zero/...  2019-10-22 14:54:09.0   \n413  https://creativecommons.org/publicdomain/zero/...  2019-10-22 16:22:18.0   \n414  https://creativecommons.org/publicdomain/zero/...  2019-10-22 15:36:29.0   \n\n    programCode                            references spatial      temporal  \\\n408   [006:004]  [https://www.census.gov/developers/]     NaN  unidentified   \n411   [006:004]  [https://www.census.gov/developers/]     NaN  unidentified   \n413   [006:004]  [https://www.census.gov/developers/]     NaN  unidentified   \n414   [006:004]  [https://www.census.gov/developers/]     NaN  unidentified   \n\n                                             publisher accessLevel bureauCode  \\\n408  {'@type': 'org:Organization', 'name': 'U.S. Ce...         NaN        NaN   \n411  {'@type': 'org:Organization', 'name': 'U.S. Ce...         NaN        NaN   \n413  {'@type': 'org:Organization', 'name': 'U.S. Ce...         NaN        NaN   \n414  {'@type': 'org:Organization', 'name': 'U.S. Ce...         NaN        NaN   \n\n    c_isTimeseries  \n408            NaN  \n411            NaN  \n413            NaN  \n414            NaN  \n\n[4 rows x 29 columns]"
     },
     "execution_count": 2,
     "metadata": {},
     "output_type": "execute_result"
    }
   ],
   "source": [
    "datasets = datasets_census(dataset = 'acs5', vintage = 2018)\n",
    "datasets.head()"
   ]
  },
  {
   "cell_type": "code",
   "execution_count": 3,
   "metadata": {},
   "outputs": [
    {
     "name": "stdout",
     "output_type": "stream",
     "text": "['c_vintage', 'c_dataset', 'c_geographyLink', 'c_variablesLink', 'c_tagsLink', 'c_examplesLink', 'c_groupsLink', 'c_valuesLink', 'c_documentationLink', 'c_isAggregate', 'c_isCube', 'c_isAvailable', '@type', 'title', 'description', 'distribution', 'contactPoint', 'identifier', 'keyword', 'license', 'modified', 'programCode', 'references', 'spatial', 'temporal', 'publisher', 'accessLevel', 'bureauCode', 'c_isTimeseries']\n"
    }
   ],
   "source": [
    "print(list(datasets))"
   ]
  },
  {
   "cell_type": "code",
   "execution_count": 4,
   "metadata": {},
   "outputs": [
    {
     "name": "stdout",
     "output_type": "stream",
     "text": "https://api.census.gov/data/2018/acs/acs5/geography.json\nhttps://api.census.gov/data/2018/acs/acs5/cprofile/geography.json\nhttps://api.census.gov/data/2018/acs/acs5/profile/geography.json\nhttps://api.census.gov/data/2018/acs/acs5/subject/geography.json\n"
    }
   ],
   "source": [
    "for elem in datasets['c_geographyLink']:\n",
    "    print(elem)"
   ]
  },
  {
   "cell_type": "code",
   "execution_count": 5,
   "metadata": {},
   "outputs": [
    {
     "data": {
      "text/plain": "['label',\n 'concept',\n 'predicateType',\n 'group',\n 'limit',\n 'predicateOnly',\n 'attributes',\n 'required']"
     },
     "execution_count": 5,
     "metadata": {},
     "output_type": "execute_result"
    }
   ],
   "source": [
    "var_url = datasets.iloc[0,3]\n",
    "\n",
    "def parse_dataset_varlist(url):\n",
    "    response = requests.get(url)\n",
    "    response = response.json()\n",
    "    response = response['variables']\n",
    "    df = pd.DataFrame.from_dict(response, orient = 'index')\n",
    "    return(df)\n",
    "variables = parse_dataset_varlist(var_url)\n",
    "list(variables)"
   ]
  },
  {
   "cell_type": "code",
   "execution_count": 6,
   "metadata": {},
   "outputs": [
    {
     "data": {
      "text/html": "<div>\n<style scoped>\n    .dataframe tbody tr th:only-of-type {\n        vertical-align: middle;\n    }\n\n    .dataframe tbody tr th {\n        vertical-align: top;\n    }\n\n    .dataframe thead th {\n        text-align: right;\n    }\n</style>\n<table border=\"1\" class=\"dataframe\">\n  <thead>\n    <tr style=\"text-align: right;\">\n      <th></th>\n      <th>name</th>\n      <th>geoLevelDisplay</th>\n      <th>referenceDate</th>\n      <th>requires</th>\n      <th>wildcard</th>\n      <th>optionalWithWCFor</th>\n    </tr>\n  </thead>\n  <tbody>\n    <tr>\n      <th>8</th>\n      <td>tract</td>\n      <td>140</td>\n      <td>2018-01-01</td>\n      <td>[state, county]</td>\n      <td>[county]</td>\n      <td>county</td>\n    </tr>\n  </tbody>\n</table>\n</div>",
      "text/plain": "    name geoLevelDisplay referenceDate         requires  wildcard  \\\n8  tract             140    2018-01-01  [state, county]  [county]   \n\n  optionalWithWCFor  \n8            county  "
     },
     "execution_count": 6,
     "metadata": {},
     "output_type": "execute_result"
    }
   ],
   "source": [
    "geo_url = datasets.iloc[0,2]\n",
    "\n",
    "def parse_dataset_geography(url):\n",
    "    response = requests.get(url)\n",
    "    response = response.json()\n",
    "    response = response['fips']\n",
    "    df = pd.DataFrame(response)\n",
    "    return(df)\n",
    "\n",
    "geography = parse_dataset_geography(geo_url)\n",
    "geography[geography['name'] == 'tract']"
   ]
  },
  {
   "cell_type": "code",
   "execution_count": 85,
   "metadata": {},
   "outputs": [],
   "source": [
    "def api_call_url(base, dataset_vars, geography, key = ''):\n",
    "    get = f\"?get={','.join(dataset_vars)}\"\n",
    "    geo_for = f\"&for={geography['geo_for']}\"\n",
    "    geo_in = f\"&in={geography['geo_in']}\"\n",
    "    key = f\"&key={key}\"\n",
    "\n",
    "    url = base + get + geo_for + geo_in + key\n",
    "    return(url)\n",
    "\n",
    "def _api_call(url):\n",
    "    response = requests.get(url)\n",
    "    response = response.text\n",
    "    try:\n",
    "        response = response.split(\"\\n\")\n",
    "        response[0] = response[0][1:(len(response[0])-1)]\n",
    "        response[1:] = [x[:-1] for x in response[1:]]\n",
    "        response = [ast.literal_eval(x) for x in response]\n",
    "        columns = response[0]\n",
    "        response = pd.DataFrame.from_records(response[1:], columns = columns)\n",
    "    except:\n",
    "        pass\n",
    "    return(response)\n",
    "\n",
    "def api_call(base, dataset_vars, geography, key = ''):\n",
    "    url = api_call_url(base, dataset_vars, geography, key)\n",
    "    response = _api_call(url)\n",
    "    return(response)"
   ]
  },
  {
   "cell_type": "code",
   "execution_count": 86,
   "metadata": {},
   "outputs": [
    {
     "data": {
      "text/html": "<div>\n<style scoped>\n    .dataframe tbody tr th:only-of-type {\n        vertical-align: middle;\n    }\n\n    .dataframe tbody tr th {\n        vertical-align: top;\n    }\n\n    .dataframe thead th {\n        text-align: right;\n    }\n</style>\n<table border=\"1\" class=\"dataframe\">\n  <thead>\n    <tr style=\"text-align: right;\">\n      <th></th>\n      <th>name_state</th>\n      <th>abbreviation_state</th>\n      <th>fips_state</th>\n    </tr>\n  </thead>\n  <tbody>\n    <tr>\n      <th>0</th>\n      <td>Alabama</td>\n      <td>AL</td>\n      <td>01</td>\n    </tr>\n    <tr>\n      <th>1</th>\n      <td>Alaska</td>\n      <td>AK</td>\n      <td>02</td>\n    </tr>\n    <tr>\n      <th>2</th>\n      <td>Arizona</td>\n      <td>AZ</td>\n      <td>04</td>\n    </tr>\n    <tr>\n      <th>3</th>\n      <td>Arkansas</td>\n      <td>AR</td>\n      <td>05</td>\n    </tr>\n    <tr>\n      <th>4</th>\n      <td>California</td>\n      <td>CA</td>\n      <td>06</td>\n    </tr>\n  </tbody>\n</table>\n</div>",
      "text/plain": "   name_state abbreviation_state fips_state\n0     Alabama                 AL         01\n1      Alaska                 AK         02\n2     Arizona                 AZ         04\n3    Arkansas                 AR         05\n4  California                 CA         06"
     },
     "execution_count": 86,
     "metadata": {},
     "output_type": "execute_result"
    }
   ],
   "source": [
    "fips = [\n",
    "    ['name_state', 'abbreviation_state', 'fips_state'],\n",
    "    ['Alabama', 'AL', '01'],\n",
    "    ['Alaska', 'AK', '02'],\n",
    "    ['Arizona', 'AZ', '04'],\n",
    "    ['Arkansas', 'AR', '05'],\n",
    "    ['California', 'CA', '06'],\n",
    "    ['Colorado', 'CO', '08'],\n",
    "    ['Connecticut', 'CT', '09'],\n",
    "    ['Delaware', 'DE', '10'],\n",
    "    ['Florida', 'FL', '12'],\n",
    "    ['Georgia', 'GA', '13'],\n",
    "    ['Hawaii', 'HI', '15'],\n",
    "    ['Idaho', 'ID', '16'],\n",
    "    ['Illinois', 'IL', '17'],\n",
    "    ['Indiana', 'IN', '18'],\n",
    "    ['Iowa', 'IA', '19'],\n",
    "    ['Kansas', 'KS', '20'],\n",
    "    ['Kentucky', 'KY', '21'],\n",
    "    ['Louisiana', 'LA', '22'],\n",
    "    ['Maine', 'ME', '23'],\n",
    "    ['Maryland', 'MD', '24'],\n",
    "    ['Massachusetts', 'MA', '25'],\n",
    "    ['Michigan', 'MI', '26'],\n",
    "    ['Minnesota', 'MN', '27'],\n",
    "    ['Mississippi', 'MS', '28'],\n",
    "    ['Missouri', 'MO', '29'],\n",
    "    ['Montana', 'MT', '30'],\n",
    "    ['Nebraska', 'NE', '31'],\n",
    "    ['Nevada', 'NV', '32'],\n",
    "    ['New Hampshire', 'NH', '33'],\n",
    "    ['New Jersey', 'NJ', '34'],\n",
    "    ['New Mexico', 'NM', '35'],\n",
    "    ['New York', 'NY', '36'],\n",
    "    ['North Carolina', 'NC', '37'],\n",
    "    ['North Dakota', 'ND', '38'],\n",
    "    ['Ohio', 'OH', '39'],\n",
    "    ['Oklahoma', 'OK', '40'],\n",
    "    ['Oregon', 'OR', '41'],\n",
    "    ['Pennsylvania', 'PA', '42'],\n",
    "    ['Rhode Island', 'RI', '44'],\n",
    "    ['South Carolina', 'SC', '45'],\n",
    "    ['South Dakota', 'SD', '46'],\n",
    "    ['Tennessee', 'TN', '47'],\n",
    "    ['Texas', 'TX', '48'],\n",
    "    ['Utah', 'UT', '49'],\n",
    "    ['Vermont', 'VT', '50'],\n",
    "    ['Virginia', 'VA', '51'],\n",
    "    ['Washington', 'WA', '53'],\n",
    "    ['West Virginia', 'WV', '54'],\n",
    "    ['Wisconsin', 'WI', '55'],\n",
    "    ['Wyoming', 'WY', '56'],\n",
    "    ['American Samoa', 'AS', '60'],\n",
    "    ['Guam', 'GU', '66'],\n",
    "    ['Northern Mariana Islands', 'MP', '69'],\n",
    "    ['Puerto Rico', 'PR', '72'],\n",
    "    ['Virgin Islands', 'VI', '78']]\n",
    "fips = pd.DataFrame.from_records(fips[1:],columns = fips[0])\n",
    "fips.head()"
   ]
  },
  {
   "cell_type": "code",
   "execution_count": 87,
   "metadata": {},
   "outputs": [
    {
     "name": "stdout",
     "output_type": "stream",
     "text": "https://api.census.gov/data/2018/acs/acs5?get=NAME,B01003_001E,B23025_001E,B23025_003E,B23025_004E,B19013_001E,B25077_001E,B25064_001E,B25058_001E&for=tract:*&in=state:35&key=7bff9e82cfa3f3e36a17f50f82663a2ab16e00e3\n"
    },
    {
     "data": {
      "text/plain": "4067\",\"3494\",\"1975\",\"1893\",\"41964\",\"172600\",\"699\",\"669\",\"35\",\"001\",\"000129\"]',\n '[\"Census Tract 4.01, Bernalillo County, New Mexico\",\"4285\",\"3542\",\"2251\",\"2183\",\"52730\",\"246600\",\"876\",\"733\",\"35\",\"001\",\"000401\"]',\n '[\"Census Tract 2.08, Bernalillo County, New Mexico\",\"3013\",\"2542\",\"1696\",\"1634\",\"41536\",\"128300\",\"1100\",\"889\",\"35\",\"001\",\"000208\"]',\n '[\"Census Tract 1.19, Bernalillo County, New Mexico\",\"1887\",\"1546\",\"960\",\"938\",\"88438\",\"270300\",\"847\",\"729\",\"35\",\"001\",\"000119\"]',\n '[\"Census Tract 1.20, Bernalillo County, New Mexico\",\"2991\",\"2267\",\"1572\",\"1507\",\"50250\",\"186700\",\"989\",\"841\",\"35\",\"001\",\"000120\"]',\n '[\"Census Tract 2.05, Bernalillo County, New Mexico\",\"3355\",\"2731\",\"1954\",\"1841\",\"33878\",\"126200\",\"820\",\"722\",\"35\",\"001\",\"000205\"]',\n '[\"Census Tract 6.04, Bernalillo County, New Mexico\",\"3885\",\"3096\",\"1795\",\"1658\",\"26612\",\"120400\",\"636\",\"579\",\"35\",\"001\",\"000604\"]',\n '[\"Census Tract 37.14, Bernalillo County, New Mexico\",\"7500\",\"6502\",\"4594\",\"4006\",\"36742\",\"195400\",\"823\",\"749\",\"35\",\"001\",\"003714\"]',\n '[\"Census Tract 21, Bernalillo County, New Mexico\",\"1468\",\"1301\",\"889\",\"806\",\"22944\",\"331300\",\"692\",\"616\",\"35\",\"001\",\"002100\"]',\n '[\"Census Tract 23, Bernalillo County, New Mexico\",\"9017\",\"6966\",\"3879\",\"3757\",\"36573\",\"123200\",\"695\",\"592\",\"35\",\"001\",\"002300\"]',\n '[\"Census Tract 26, Bernalillo County, New Mexico\",\"1047\",\"951\",\"486\",\"454\",\"38594\",\"179000\",\"859\",\"722\",\"35\",\"001\",\"002600\"]',\n '[\"Census Tract 37.19, Bernalillo County, New Mexico\",\"5795\",\"4621\",\"2361\",\"2277\",\"60208\",\"243200\",\"938\",\"819\",\"35\",\"001\",\"003719\"]',\n '[\"Census Tract 44.01, Bernalillo County, New Mexico\",\"3450\",\"2701\",\"1363\",\"1256\",\"45867\",\"136600\",\"938\",\"722\",\"35\",\"001\",\"004401\"]',\n '[\"Census Tract 47.12, Bernalillo County, New Mexico\",\"6633\",\"5067\",\"3518\",\"3313\",\"53042\",\"132000\",\"1139\",\"951\",\"35\",\"001\",\"004712\"]',\n '[\"Census Tract 47.29, Bernalillo County, New Mexico\",\"3789\",\"3136\",\"1798\",\"1707\",\"57467\",\"277800\",\"1033\",\"912\",\"35\",\"001\",\"004729\"]',\n '[\"Census Tract 32.02, Bernalillo County, New Mexico\",\"5043\",\"4018\",\"2387\",\"2280\",\"34211\",\"161400\",\"787\",\"615\",\"35\",\"001\",\"003202\"]',\n '[\"Census Tract 18, Bernalillo County, New Mexico\",\"2070\",\"2029\",\"892\",\"750\",\"26198\",\"208300\",\"649\",\"639\",\"35\",\"001\",\"001800\"]',\n '[\"Census Tract 27, Bernalillo County, New Mexico\",\"4160\",\"3549\",\"2259\",\"2059\",\"45054\",\"221400\",\"764\",\"631\",\"35\",\"001\",\"002700\"]',\n '[\"Census Tract 34, Bernalillo County, New Mexico\",\"4343\",\"3134\",\"1755\",\"1588\",\"25668\",\"-666666666\",\"659\",\"589\",\"35\",\"001\",\"003400\"]',\n '[\"Census Tract 37.12, Bernalillo County, New Mexico\",\"5254\",\"4165\",\"2437\",\"2326\",\"77336\",\"231500\",\"1276\",\"1139\",\"35\",\"001\",\"003712\"]',\n '[\"Census Tract 37.15, Bernalillo County, New Mexico\",\"3919\",\"3334\",\"1996\",\"1945\",\"83500\",\"293300\",\"1236\",\"1038\",\"35\",\"001\",\"003715\"]',\n '[\"Census Tract 37.23, Bernalillo County, New Mexico\",\"5760\",\"5341\",\"3039\",\"2804\",\"54436\",\"128600\",\"1205\",\"1073\",\"35\",\"001\",\"003723\"]',\n '[\"Census Tract 38.06, Bernalillo County, New Mexico\",\"3496\",\"3061\",\"1913\",\"1833\",\"87898\",\"272600\",\"982\",\"800\",\"35\",\"001\",\"003806\"]',\n '[\"Census Tract 43, Bernalillo County, New Mexico\",\"5604\",\"4417\",\"2278\",\"2002\",\"32036\",\"152900\",\"781\",\"679\",\"35\",\"001\",\"004300\"]',\n '[\"Census Tract 18.02, Do�a Ana County, New Mexico\",\"6890\",\"4670\",\"2636\",\"2470\",\"28513\",\"67000\",\"578\",\"399\",\"35\",\"013\",\"001802\"]',\n '[\"Census Tract 47.33, Bernalillo County, New Mexico\",\"7459\",\"5058\",\"3667\",\"3405\",\"45119\",\"124700\",\"1137\",\"910\",\"35\",\"001\",\"004733\"]',\n '[\"Census Tract 47.34, Bernalillo County, New Mexico\",\"7548\",\"5273\",\"3681\",\"3438\",\"37640\",\"109000\",\"952\",\"836\",\"35\",\"001\",\"004734\"]',\n '[\"Census Tract 47.35, Bernalillo County, New Mexico\",\"2167\",\"1645\",\"1154\",\"1066\",\"42685\",\"118600\",\"560\",\"390\",\"35\",\"001\",\"004735\"]',\n '[\"Census Tract 47.36, Bernalillo County, New Mexico\",\"1529\",\"1068\",\"737\",\"682\",\"31338\",\"25700\",\"800\",\"718\",\"35\",\"001\",\"004736\"]',\n '[\"Census Tract 47.37, Bernalillo County, New Mexico\",\"7285\",\"4893\",\"3473\",\"3294\",\"56278\",\"154100\",\"1329\",\"1093\",\"35\",\"001\",\"004737\"]',\n '[\"Census Tract 47.38, Bernalillo County, New Mexico\",\"6132\",\"4147\",\"2967\",\"2699\",\"47895\",\"138700\",\"1183\",\"1060\",\"35\",\"001\",\"004738\"]',\n '[\"Census Tract 47.39, Bernalillo County, New Mexico\",\"7013\",\"4832\",\"3219\",\"2958\",\"41859\",\"133000\",\"1106\",\"896\",\"35\",\"001\",\"004739\"]',\n '[\"Census Tract 47.40, Bernalillo County, New Mexico\",\"7113\",\"5077\",\"3600\",\"3335\",\"41809\",\"142800\",\"908\",\"808\",\"35\",\"001\",\"004740\"]',\n '[\"Census Tract 47.41, Bernalillo County, New Mexico\",\"7695\",\"5649\",\"3229\",\"2965\",\"33397\",\"152800\",\"817\",\"699\",\"35\",\"001\",\"004741\"]',\n '[\"Census Tract 47.42, Bernalillo County, New Mexico\",\"6181\",\"5179\",\"3313\",\"3176\",\"57944\",\"154800\",\"1044\",\"870\",\"35\",\"001\",\"004742\"]',\n '[\"Census Tract 47.43, Bernalillo County, New Mexico\",\"4172\",\"3036\",\"2292\",\"2219\",\"68295\",\"185600\",\"1276\",\"1064\",\"35\",\"001\",\"004743\"]',\n '[\"Census Tract 47.44, Bernalillo County, New Mexico\",\"5819\",\"4493\",\"3135\",\"3044\",\"87675\",\"227200\",\"1338\",\"1172\",\"35\",\"001\",\"004744\"]',\n '[\"Census Tract 47.45, Bernalillo County, New Mexico\",\"6436\",\"4952\",\"3422\",\"3304\",\"82411\",\"199300\",\"1055\",\"1008\",\"35\",\"001\",\"004745\"]',\n '[\"Census Tract 47.46, Bernalillo County, New Mexico\",\"8590\",\"6003\",\"4193\",\"4007\",\"68005\",\"179300\",\"1231\",\"1172\",\"35\",\"001\",\"004746\"]',\n '[\"Census Tract 47.47, Bernalillo County, New Mexico\",\"5372\",\"4074\",\"2669\",\"2525\",\"68659\",\"176500\",\"1042\",\"838\",\"35\",\"001\",\"004747\"]',\n '[\"Census Tract 10.01, Chaves County, New Mexico\",\"5652\",\"4293\",\"2515\",\"2430\",\"77633\",\"162700\",\"1315\",\"1023\",\"35\",\"005\",\"001001\"]',\n '[\"Census Tract 10.02, Chaves County, New Mexico\",\"4735\",\"3571\",\"1984\",\"1966\",\"61522\",\"191500\",\"825\",\"763\",\"35\",\"005\",\"001002\"]',\n '[\"Census Tract 11.01, Chaves County, New Mexico\",\"5558\",\"3902\",\"2084\",\"1924\",\"37083\",\"59500\",\"723\",\"530\",\"35\",\"005\",\"001101\"]',\n '[\"Census Tract 11.02, Chaves County, New Mexico\",\"3789\",\"2971\",\"1703\",\"1596\",\"49222\",\"157600\",\"1106\",\"1040\",\"35\",\"005\",\"001102\"]',\n '[\"Census Tract 9461, Cibola County, New Mexico\",\"3976\",\"3204\",\"1770\",\"1379\",\"34483\",\"75400\",\"327\",\"125\",\"35\",\"006\",\"946100\"]',\n '[\"Census Tract 9747, Cibola County, New Mexico\",\"5418\",\"4446\",\"1911\",\"1807\",\"51175\",\"105800\",\"622\",\"470\",\"35\",\"006\",\"974700\"]',\n '[\"Census Tract 3.03, Curry County, New Mexico\",\"4444\",\"3409\",\"2025\",\"1839\",\"51190\",\"181700\",\"923\",\"725\",\"35\",\"009\",\"000303\"]',\n '[\"Census Tract 3.04, Curry County, New Mexico\",\"6004\",\"4909\",\"2802\",\"2754\",\"68639\",\"196200\",\"994\",\"786\",\"35\",\"009\",\"000304\"]',\n '[\"Census Tract 6.01, Curry County, New Mexico\",\"1082\",\"930\",\"397\",\"378\",\"48333\",\"95800\",\"752\",\"474\",\"35\",\"009\",\"000601\"]',\n '[\"Census Tract 6.02, Curry County, New Mexico\",\"5350\",\"3908\",\"2272\",\"2221\",\"76635\",\"209800\",\"1344\",\"1138\",\"35\",\"009\",\"000602\"]',\n '[\"Census Tract 6.03, Curry County, New Mexico\",\"4104\",\"3020\",\"1844\",\"1798\",\"48468\",\"121400\",\"725\",\"581\",\"35\",\"009\",\"000603\"]',\n '[\"Census Tract 2.02, Do�a Ana County, New Mexico\",\"5845\",\"4329\",\"2688\",\"2550\",\"43882\",\"149000\",\"736\",\"573\",\"35\",\"013\",\"000202\"]',\n '[\"Census Tract 1.03, Do�a Ana County, New Mexico\",\"4873\",\"3483\",\"2053\",\"1946\",\"32219\",\"96000\",\"665\",\"525\",\"35\",\"013\",\"000103\"]',\n '[\"Census Tract 1.04, Do�a Ana County, New Mexico\",\"5001\",\"3712\",\"2247\",\"2118\",\"66192\",\"158600\",\"1089\",\"960\",\"35\",\"013\",\"000104\"]',\n '[\"Census Tract 2.01, Do�a Ana County, New Mexico\",\"5257\",\"4317\",\"1861\",\"1695\",\"31329\",\"78000\",\"735\",\"628\",\"35\",\"013\",\"000201\"]',\n '[\"Census Tract 11.03, Do�a Ana County, New Mexico\",\"4260\",\"3631\",\"2161\",\"1928\",\"52940\",\"190600\",\"623\",\"520\",\"35\",\"013\",\"001103\"]',\n '[\"Census Tract 11.04, Do�a Ana County, New Mexico\",\"5586\",\"3930\",\"2436\",\"2211\",\"45635\",\"134400\",\"740\",\"614\",\"35\",\"013\",\"001104\"]',\n '[\"Census Tract 12.03, Do�a Ana County, New Mexico\",\"4850\",\"3757\",\"2405\",\"2236\",\"35156\",\"168600\",\"712\",\"647\",\"35\",\"013\",\"001203\"]',\n '[\"Census Tract 12.04, Do�a Ana County, New Mexico\",\"4352\",\"3728\",\"1937\",\"1822\",\"95882\",\"357700\",\"957\",\"865\",\"35\",\"013\",\"001204\"]',\n '[\"Census Tract 12.05, Do�a Ana County, New Mexico\",\"4530\",\"4026\",\"2134\",\"2015\",\"59336\",\"196800\",\"1058\",\"945\",\"35\",\"013\",\"001205\"]',\n '[\"Census Tract 13.04, Do�a Ana County, New Mexico\",\"7985\",\"5837\",\"3713\",\"3340\",\"47429\",\"126600\",\"966\",\"746\",\"35\",\"013\",\"001304\"]',\n '[\"Census Tract 13.05, Do�a Ana County, New Mexico\",\"5059\",\"3747\",\"1978\",\"1827\",\"32966\",\"90100\",\"849\",\"608\",\"35\",\"013\",\"001305\"]',\n '[\"Census Tract 13.06, Do�a Ana County, New Mexico\",\"12799\",\"9351\",\"5949\",\"5629\",\"62893\",\"159800\",\"1055\",\"899\",\"35\",\"013\",\"001306\"]',\n '[\"Census Tract 13.07, Do�a Ana County, New Mexico\",\"6107\",\"5109\",\"2981\",\"2754\",\"39487\",\"106900\",\"720\",\"520\",\"35\",\"013\",\"001307\"]',\n '[\"Census Tract 17.06, Do�a Ana County, New Mexico\",\"4537\",\"3107\",\"1663\",\"1441\",\"21107\",\"101800\",\"608\",\"461\",\"35\",\"013\",\"001706\"]',\n '[\"Census Tract 17.07, Do�a Ana County, New Mexico\",\"5733\",\"4094\",\"2472\",\"2321\",\"27182\",\"91500\",\"623\",\"502\",\"35\",\"013\",\"001707\"]',\n '[\"Census Tract 18.05, Do�a Ana County, New Mexico\",\"3524\",\"2421\",\"1334\",\"1227\",\"23807\",\"77900\",\"679\",\"485\",\"35\",\"013\",\"001805\"]',\n '[\"Census Tract 18.06, Do�a Ana County, New Mexico\",\"6104\",\"4392\",\"2848\",\"2504\",\"23434\",\"109600\",\"474\",\"325\",\"35\",\"013\",\"001806\"]',\n '[\"Census Tract 9641, Grant County, New Mexico\",\"2309\",\"2008\",\"687\",\"678\",\"46698\",\"202200\",\"566\",\"467\",\"35\",\"017\",\"964100\"]',\n '[\"Census Tract 9642, Grant County, New Mexico\",\"1685\",\"1498\",\"694\",\"667\",\"43824\",\"152700\",\"911\",\"762\",\"35\",\"017\",\"964200\"]',\n '[\"Census Tract 9643, Grant County, New Mexico\",\"6441\",\"5052\",\"2967\",\"2820\",\"36288\",\"153600\",\"682\",\"547\",\"35\",\"017\",\"964300\"]',\n '[\"Census Tract 9644, Grant County, New Mexico\",\"4213\",\"3286\",\"1749\",\"1578\",\"29531\",\"94400\",\"698\",\"563\",\"35\",\"017\",\"964400\"]',\n '[\"Census Tract 9645, Grant County, New Mexico\",\"2945\",\"2250\",\"1113\",\"961\",\"36481\",\"90100\",\"606\",\"484\",\"35\",\"017\",\"964500\"]',\n '[\"Census Tract 9646, Grant County, New Mexico\",\"2972\",\"2308\",\"1151\",\"1038\",\"32717\",\"83400\",\"632\",\"428\",\"35\",\"017\",\"964600\"]',\n '[\"Census Tract 9647, Grant County, New Mexico\",\"5531\",\"4862\",\"2241\",\"2043\",\"49087\",\"223800\",\"944\",\"583\",\"35\",\"017\",\"964700\"]',\n '[\"Census Tract 9648, Grant County, New Mexico\",\"1965\",\"1524\",\"730\",\"688\",\"44412\",\"97700\",\"766\",\"525\",\"35\",\"017\",\"964800\"]',\n '[\"Census Tract 9700, Hidalgo County, New Mexico\",\"1856\",\"1497\",\"720\",\"677\",\"40909\",\"93000\",\"586\",\"518\",\"35\",\"023\",\"970000\"]',\n '[\"Census Tract 9702, Hidalgo County, New Mexico\",\"2515\",\"1982\",\"977\",\"864\",\"33477\",\"70100\",\"461\",\"314\",\"35\",\"023\",\"970200\"]',\n '[\"Census Tract 5.03, Lea County, New Mexico\",\"3663\",\"2858\",\"1936\",\"1855\",\"72462\",\"161100\",\"998\",\"887\",\"35\",\"025\",\"000503\"]',\n '[\"Census Tract 5.04, Lea County, New Mexico\",\"3772\",\"2660\",\"1849\",\"1775\",\"85850\",\"203200\",\"1196\",\"1111\",\"35\",\"025\",\"000504\"]',\n '[\"Census Tract 7.01, Lea County, New Mexico\",\"1700\",\"1293\",\"915\",\"884\",\"85703\",\"125900\",\"1132\",\"1088\",\"35\",\"025\",\"000701\"]',\n '[\"Census Tract 7.02, Lea County, New Mexico\",\"4140\",\"3379\",\"1258\",\"1181\",\"70000\",\"136700\",\"792\",\"742\",\"35\",\"025\",\"000702\"]',\n '[\"Census Tract 7.03, Lea County, New Mexico\",\"2597\",\"2013\",\"1209\",\"1176\",\"91204\",\"242000\",\"994\",\"820\",\"35\",\"025\",\"000703\"]',\n '[\"Census Tract 7.04, Lea County, New Mexico\",\"2978\",\"2331\",\"1565\",\"1505\",\"67565\",\"173300\",\"886\",\"810\",\"35\",\"025\",\"000704\"]',\n '[\"Census Tract 10.04, Lea County, New Mexico\",\"4096\",\"2915\",\"1991\",\"1757\",\"59750\",\"118900\",\"618\",\"608\",\"35\",\"025\",\"001004\"]',\n '[\"Census Tract 10.05, Lea County, New Mexico\",\"3626\",\"2607\",\"1342\",\"1236\",\"50677\",\"91100\",\"751\",\"651\",\"35\",\"025\",\"001005\"]',\n '[\"Census Tract 9602, Lincoln County, New Mexico\",\"1572\",\"1361\",\"437\",\"417\",\"35170\",\"102800\",\"679\",\"438\",\"35\",\"027\",\"960200\"]',\n '[\"Census Tract 9603, Lincoln County, New Mexico\",\"2721\",\"2291\",\"769\",\"769\",\"42896\",\"203600\",\"802\",\"587\",\"35\",\"027\",\"960300\"]',\n '[\"Census Tract 9604, Lincoln County, New Mexico\",\"7101\",\"5778\",\"2711\",\"2603\",\"41794\",\"237000\",\"580\",\"460\",\"35\",\"027\",\"960400\"]',\n '[\"Census Tract 9606, Lincoln County, New Mexico\",\"6154\",\"5325\",\"2304\",\"2202\",\"50313\",\"226400\",\"708\",\"579\",\"35\",\"027\",\"960600\"]',\n '[\"Census Tract 9608, Lincoln County, New Mexico\",\"1934\",\"1738\",\"1070\",\"988\",\"35532\",\"165000\",\"594\",\"480\",\"35\",\"027\",\"960800\"]',\n '[\"Census Tract 9405, McKinley County, New Mexico\",\"1768\",\"1167\",\"752\",\"570\",\"24864\",\"68200\",\"570\",\"379\",\"35\",\"031\",\"940500\"]',\n '[\"Census Tract 9439.01, McKinley County, New Mexico\",\"4450\",\"3592\",\"1652\",\"1387\",\"22963\",\"45000\",\"921\",\"332\",\"35\",\"031\",\"943901\"]',\n '[\"Census Tract 9439.02, McKinley County, New Mexico\",\"4150\",\"3088\",\"1207\",\"1064\",\"29347\",\"41000\",\"923\",\"706\",\"35\",\"031\",\"943902\"]',\n '[\"Census Tract 9440, McKinley County, New Mexico\",\"2224\",\"1604\",\"809\",\"613\",\"22465\",\"33800\",\"527\",\"300\",\"35\",\"031\",\"944000\"]',\n '[\"Census Tract 3.05, Otero County, New Mexico\",\"4212\",\"3323\",\"1999\",\"1690\",\"43668\",\"95100\",\"674\",\"549\",\"35\",\"035\",\"000305\"]',\n '[\"Census Tract 9731, McKinley County, New Mexico\",\"970\",\"888\",\"377\",\"364\",\"66280\",\"119000\",\"698\",\"492\",\"35\",\"031\",\"973100\"]',\n '[\"Census Tract 3.03, Otero County, New Mexico\",\"2381\",\"1776\",\"945\",\"906\",\"39303\",\"96000\",\"756\",\"558\",\"35\",\"035\",\"000303\"]',\n '[\"Census Tract 3.04, Otero County, New Mexico\",\"3508\",\"2810\",\"1575\",\"1449\",\"65577\",\"160300\",\"983\",\"803\",\"35\",\"035\",\"000304\"]',\n '[\"Census Tract 3.06, Otero County, New Mexico\",\"3357\",\"2651\",\"1482\",\"1332\",\"65558\",\"149800\",\"912\",\"704\",\"35\",\"035\",\"000306\"]',\n '[\"Census Tract 9.01, Otero County, New Mexico\",\"2673\",\"2414\",\"899\",\"872\",\"53979\",\"158100\",\"669\",\"481\",\"35\",\"035\",\"000901\"]',\n '[\"Census Tract 9.02, Otero County, New Mexico\",\"10895\",\"8169\",\"3323\",\"2759\",\"19334\",\"67500\",\"764\",\"525\",\"35\",\"035\",\"000902\"]',\n '[\"Census Tract 9400, Otero County, New Mexico\",\"3730\",\"2633\",\"1680\",\"1337\",\"33796\",\"62300\",\"305\",\"112\",\"35\",\"035\",\"940000\"]',\n '[\"Census Tract 9589, Quay County, New Mexico\",\"2538\",\"2194\",\"1064\",\"1043\",\"32813\",\"87700\",\"545\",\"443\",\"35\",\"037\",\"958900\"]',\n '[\"Census Tract 9410, Rio Arriba County, New Mexico\",\"3653\",null,null,null,null,\"102300\",\"506\",\"369\",\"35\",\"039\",\"941000\"]',\n '[\"Census Tract 9441, Rio Arriba County, New Mexico\",\"6541\",null,null,null,null,\"170000\",\"691\",\"514\",\"35\",\"039\",\"944100\"]',\n '[\"Census Tract 4.01, Roosevelt County, New Mexico\",\"3293\",\"2559\",\"1561\",\"1435\",\"48500\",\"121700\",\"714\",\"511\",\"35\",\"041\",\"000401\"]',\n '[\"Census Tract 4.02, Roosevelt County, New Mexico\",\"3463\",\"2667\",\"1431\",\"1375\",\"50174\",\"121300\",\"804\",\"546\",\"35\",\"041\",\"000402\"]',\n '[\"Census Tract 107.17, Sandoval County, New Mexico\",\"9158\",\"7375\",\"4870\",\"4313\",\"70357\",\"206300\",\"1141\",\"975\",\"35\",\"043\",\"010717\"]',\n '[\"Census Tract 107.18, Sandoval County, New Mexico\",\"6990\",\"4880\",\"3189\",\"3070\",\"84339\",\"265800\",\"1442\",\"1208\",\"35\",\"043\",\"010718\"]',\n '[\"Census Tract 107.19, Sandoval County, New Mexico\",\"4070\",\"3385\",\"2229\",\"2073\",\"59226\",\"175100\",\"950\",\"776\",\"35\",\"043\",\"010719\"]',\n '[\"Census Tract 107.20, Sandoval County, New Mexico\",\"9831\",\"7145\",\"4998\",\"4795\",\"89423\",\"227600\",\"1239\",\"990\",\"35\",\"043\",\"010720\"]',\n '[\"Census Tract 107.21, Sandoval County, New Mexico\",\"4384\",\"3499\",\"2438\",\"2159\",\"55315\",\"127700\",\"1128\",\"897\",\"35\",\"043\",\"010721\"]',\n '[\"Census Tract 107.22, Sandoval County, New Mexico\",\"6107\",\"4266\",\"2635\",\"2314\",\"60160\",\"172600\",\"1426\",\"1167\",\"35\",\"043\",\"010722\"]',\n '[\"Census Tract 107.23, Sandoval County, New Mexico\",\"12003\",\"7889\",\"5257\",\"4963\",\"63367\",\"175000\",\"1378\",\"1130\",\"35\",\"043\",\"010723\"]',\n '[\"Census Tract 109, Sandoval County, New Mexico\",\"2507\",\"1962\",\"951\",\"816\",\"36293\",\"111400\",\"557\",\"432\",\"35\",\"043\",\"010900\"]',\n '[\"Census Tract 110, Sandoval County, New Mexico\",\"1934\",\"1544\",\"759\",\"674\",\"44637\",\"145900\",\"650\",\"446\",\"35\",\"043\",\"011000\"]',\n '[\"Census Tract 111, Sandoval County, New Mexico\",\"6251\",\"5602\",\"2790\",\"2522\",\"67857\",\"333100\",\"1054\",\"881\",\"35\",\"043\",\"011100\"]',\n '[\"Census Tract 112, Sandoval County, New Mexico\",\"2723\",\"2154\",\"1243\",\"1101\",\"41510\",\"227100\",\"720\",\"582\",\"35\",\"043\",\"011200\"]',\n '[\"Census Tract 9406, Sandoval County, New Mexico\",\"2049\",\"1487\",\"784\",\"735\",\"37500\",\"113900\",\"592\",\"381\",\"35\",\"043\",\"940600\"]',\n '[\"Census Tract 9407, Sandoval County, New Mexico\",\"3544\",\"2593\",\"1301\",\"1147\",\"49286\",\"178300\",\"538\",\"441\",\"35\",\"043\",\"940700\"]',\n '[\"Census Tract 5.03, San Juan County, New Mexico\",\"3151\",\"2186\",\"1442\",\"1267\",\"42712\",\"39000\",\"812\",\"565\",\"35\",\"045\",\"000503\"]',\n '[\"Census Tract 5.04, San Juan County, New Mexico\",\"1981\",\"1538\",\"1010\",\"913\",\"65222\",\"142500\",\"1117\",\"829\",\"35\",\"045\",\"000504\"]',\n '[\"Census Tract 5.05, San Juan County, New Mexico\",\"6170\",\"4620\",\"2755\",\"2505\",\"53125\",\"157600\",\"810\",\"686\",\"35\",\"045\",\"000505\"]',\n '[\"Census Tract 6.07, San Juan County, New Mexico\",\"4562\",\"3581\",\"1933\",\"1750\",\"55526\",\"167000\",\"722\",\"611\",\"35\",\"045\",\"000607\"]',\n '[\"Census Tract 6.08, San Juan County, New Mexico\",\"6502\",\"4856\",\"2960\",\"2661\",\"69521\",\"114700\",\"1160\",\"925\",\"35\",\"045\",\"000608\"]',\n '[\"Census Tract 6.09, San Juan County, New Mexico\",\"1385\",\"990\",\"577\",\"528\",\"36604\",\"177800\",\"614\",\"544\",\"35\",\"045\",\"000609\"]',\n '[\"Census Tract 6.10, San Juan County, New Mexico\",\"4299\",\"3241\",\"1778\",\"1678\",\"42103\",\"155000\",\"711\",\"544\",\"35\",\"045\",\"000610\"]',\n '[\"Census Tract 47.48, Bernalillo County, New Mexico\",\"10784\",\"7461\",\"4919\",\"4494\",\"78965\",\"198400\",\"1492\",\"1247\",\"35\",\"001\",\"004748\"]',\n '[\"Census Tract 47.49, Bernalillo County, New Mexico\",\"4438\",\"3645\",\"2508\",\"2251\",\"38301\",\"118500\",\"904\",\"784\",\"35\",\"001\",\"004749\"]',\n '[\"Census Tract 47.50, Bernalillo County, New Mexico\",\"6026\",\"4761\",\"3230\",\"3009\",\"60774\",\"166900\",\"1291\",\"1091\",\"35\",\"001\",\"004750\"]',\n '[\"Census Tract 47.51, Bernalillo County, New Mexico\",\"3672\",\"2840\",\"1945\",\"1881\",\"68098\",\"219200\",\"1271\",\"1161\",\"35\",\"001\",\"004751\"]',\n '[\"Census Tract 47.52, Bernalillo County, New Mexico\",\"3943\",\"3203\",\"2146\",\"2031\",\"71705\",\"240100\",\"1060\",\"922\",\"35\",\"001\",\"004752\"]',\n '[\"Census Tract 47.53, Bernalillo County, New Mexico\",\"3996\",\"3231\",\"2299\",\"2197\",\"76389\",\"275000\",\"1093\",\"949\",\"35\",\"001\",\"004753\"]',\n '[\"Census Tract 9405, Bernalillo County, New Mexico\",\"3123\",\"2816\",\"1231\",\"1192\",\"97762\",\"443400\",\"990\",\"830\",\"35\",\"001\",\"940500\"]',\n '[\"Census Tract 9406, Bernalillo County, New Mexico\",\"11788\",\"9041\",\"5129\",\"4551\",\"76347\",\"235200\",\"1197\",\"1014\",\"35\",\"001\",\"940600\"]',\n '[\"Census Tract 9407, Bernalillo County, New Mexico\",\"2704\",\"2224\",\"1273\",\"1099\",\"33536\",\"90300\",\"475\",\"425\",\"35\",\"001\",\"940700\"]',\n '[\"Census Tract 9764, Catron County, New Mexico\",\"3539\",\"3190\",\"842\",\"842\",\"42480\",\"161800\",\"1150\",\"860\",\"35\",\"003\",\"976400\"]',\n '[\"Census Tract 2.01, Chaves County, New Mexico\",\"3463\",\"2784\",\"1668\",\"1481\",\"44286\",\"103400\",\"866\",\"586\",\"35\",\"005\",\"000201\"]',\n '[\"Census Tract 6.13, San Juan County, New Mexico\",\"3979\",\"3378\",\"1665\",\"1588\",\"54426\",\"158200\",\"829\",\"665\",\"35\",\"045\",\"000613\"]',\n '[\"Census Tract 2.02, Chaves County, New Mexico\",\"3734\",\"2775\",\"1781\",\"1735\",\"41818\",\"94100\",\"806\",\"600\",\"35\",\"005\",\"000202\"]',\n '[\"Census Tract 6.11, San Juan County, New Mexico\",\"3570\",\"3110\",\"1946\",\"1798\",\"56776\",\"193000\",\"963\",\"832\",\"35\",\"045\",\"000611\"]',\n '[\"Census Tract 6.12, San Juan County, New Mexico\",\"2240\",\"1699\",\"966\",\"940\",\"52959\",\"131400\",\"874\",\"705\",\"35\",\"045\",\"000612\"]',\n '[\"Census Tract 7.05, San Juan County, New Mexico\",\"4102\",\"2690\",\"1761\",\"1644\",\"57545\",\"151500\",\"797\",\"682\",\"35\",\"045\",\"000705\"]',\n '[\"Census Tract 7.06, San Juan County, New Mexico\",\"2908\",\"2400\",\"1369\",\"1216\",\"48125\",\"69400\",\"789\",\"596\",\"35\",\"045\",\"000706\"]',\n '[\"Census Tract 7.07, San Juan County, New Mexico\",\"4042\",\"2926\",\"1825\",\"1654\",\"59402\",\"144500\",\"758\",\"596\",\"35\",\"045\",\"000707\"]',\n '[\"Census Tract 7.08, San Juan County, New Mexico\",\"4710\",\"3524\",\"1837\",\"1665\",\"38844\",\"167000\",\"914\",\"539\",\"35\",\"045\",\"000708\"]',\n '[\"Census Tract 9, San Juan County, New Mexico\",\"2287\",\"1851\",\"1217\",\"1101\",\"64531\",\"178400\",\"891\",\"742\",\"35\",\"045\",\"000900\"]',\n '[\"Census Tract 9428.01, San Juan County, New Mexico\",\"2705\",\"2164\",\"1039\",\"873\",\"37125\",\"76300\",\"325\",\"99\",\"35\",\"045\",\"942801\"]',\n '[\"Census Tract 9428.02, San Juan County, New Mexico\",\"6751\",\"5103\",\"2694\",\"2228\",\"42895\",\"75900\",\"544\",\"359\",\"35\",\"045\",\"942802\"]',\n '[\"Census Tract 9428.03, San Juan County, New Mexico\",\"2745\",\"1992\",\"1029\",\"851\",\"26522\",\"59800\",\"447\",\"270\",\"35\",\"045\",\"942803\"]',\n '[\"Census Tract 9432.01, San Juan County, New Mexico\",\"5324\",\"4006\",\"2065\",\"1749\",\"29135\",\"82400\",\"657\",\"502\",\"35\",\"045\",\"943201\"]']"
     },
     "execution_count": 87,
     "metadata": {},
     "output_type": "execute_result"
    }
   ],
   "source": [
    "base = list(datasets['distribution'])[0][0]['accessURL']\n",
    "demographic_variables = {\n",
    "    \"NAME\" : 'Name',\n",
    "    \"B01003_001E\" : 'Total Population',\n",
    "    \"B23025_001E\" : 'Population aged 16 and over',\n",
    "    \"B23025_003E\" : 'Population aged 16 and over in civilian labor force',\n",
    "    \"B23025_004E\" : 'Population aged 16 and over in civilian labor force, employed',\n",
    "    \"B19013_001E\" : 'Median Household Income',\n",
    "    \"B25077_001E\" : 'Median Home Price',\n",
    "    \"B25064_001E\" : 'Median Gross Rent',\n",
    "    \"B25058_001E\" : 'Median Contract Rent'}\n",
    "geography = {'geo_for':'tract:*', 'geo_in':'state:35'}\n",
    "key = '7bff9e82cfa3f3e36a17f50f82663a2ab16e00e3'\n",
    "\n",
    "print(api_call_url(base, demographic_variables.keys(), geography, key))\n",
    "data = api_call(base, demographic_variables.keys(), geography, key)\n",
    "data\n",
    "#data.head()\n",
    "#data.to_csv('/Users/hamzaamjad/Box/Data/Demographic/Census Bureau/Census Tract/35.csv')"
   ]
  },
  {
   "cell_type": "code",
   "execution_count": 88,
   "metadata": {},
   "outputs": [
    {
     "data": {
      "text/plain": "4067\",\"3494\",\"1975\",\"1893\",\"41964\",\"172600\",\"699\",\"669\",\"35\",\"001\",\"000129\"]',\n '[\"Census Tract 4.01, Bernalillo County, New Mexico\",\"4285\",\"3542\",\"2251\",\"2183\",\"52730\",\"246600\",\"876\",\"733\",\"35\",\"001\",\"000401\"]',\n '[\"Census Tract 2.08, Bernalillo County, New Mexico\",\"3013\",\"2542\",\"1696\",\"1634\",\"41536\",\"128300\",\"1100\",\"889\",\"35\",\"001\",\"000208\"]',\n '[\"Census Tract 1.19, Bernalillo County, New Mexico\",\"1887\",\"1546\",\"960\",\"938\",\"88438\",\"270300\",\"847\",\"729\",\"35\",\"001\",\"000119\"]',\n '[\"Census Tract 1.20, Bernalillo County, New Mexico\",\"2991\",\"2267\",\"1572\",\"1507\",\"50250\",\"186700\",\"989\",\"841\",\"35\",\"001\",\"000120\"]',\n '[\"Census Tract 2.05, Bernalillo County, New Mexico\",\"3355\",\"2731\",\"1954\",\"1841\",\"33878\",\"126200\",\"820\",\"722\",\"35\",\"001\",\"000205\"]',\n '[\"Census Tract 6.04, Bernalillo County, New Mexico\",\"3885\",\"3096\",\"1795\",\"1658\",\"26612\",\"120400\",\"636\",\"579\",\"35\",\"001\",\"000604\"]',\n '[\"Census Tract 37.14, Bernalillo County, New Mexico\",\"7500\",\"6502\",\"4594\",\"4006\",\"36742\",\"195400\",\"823\",\"749\",\"35\",\"001\",\"003714\"]',\n '[\"Census Tract 21, Bernalillo County, New Mexico\",\"1468\",\"1301\",\"889\",\"806\",\"22944\",\"331300\",\"692\",\"616\",\"35\",\"001\",\"002100\"]',\n '[\"Census Tract 23, Bernalillo County, New Mexico\",\"9017\",\"6966\",\"3879\",\"3757\",\"36573\",\"123200\",\"695\",\"592\",\"35\",\"001\",\"002300\"]',\n '[\"Census Tract 26, Bernalillo County, New Mexico\",\"1047\",\"951\",\"486\",\"454\",\"38594\",\"179000\",\"859\",\"722\",\"35\",\"001\",\"002600\"]',\n '[\"Census Tract 37.19, Bernalillo County, New Mexico\",\"5795\",\"4621\",\"2361\",\"2277\",\"60208\",\"243200\",\"938\",\"819\",\"35\",\"001\",\"003719\"]',\n '[\"Census Tract 44.01, Bernalillo County, New Mexico\",\"3450\",\"2701\",\"1363\",\"1256\",\"45867\",\"136600\",\"938\",\"722\",\"35\",\"001\",\"004401\"]',\n '[\"Census Tract 47.12, Bernalillo County, New Mexico\",\"6633\",\"5067\",\"3518\",\"3313\",\"53042\",\"132000\",\"1139\",\"951\",\"35\",\"001\",\"004712\"]',\n '[\"Census Tract 47.29, Bernalillo County, New Mexico\",\"3789\",\"3136\",\"1798\",\"1707\",\"57467\",\"277800\",\"1033\",\"912\",\"35\",\"001\",\"004729\"]',\n '[\"Census Tract 32.02, Bernalillo County, New Mexico\",\"5043\",\"4018\",\"2387\",\"2280\",\"34211\",\"161400\",\"787\",\"615\",\"35\",\"001\",\"003202\"]',\n '[\"Census Tract 18, Bernalillo County, New Mexico\",\"2070\",\"2029\",\"892\",\"750\",\"26198\",\"208300\",\"649\",\"639\",\"35\",\"001\",\"001800\"]',\n '[\"Census Tract 27, Bernalillo County, New Mexico\",\"4160\",\"3549\",\"2259\",\"2059\",\"45054\",\"221400\",\"764\",\"631\",\"35\",\"001\",\"002700\"]',\n '[\"Census Tract 34, Bernalillo County, New Mexico\",\"4343\",\"3134\",\"1755\",\"1588\",\"25668\",\"-666666666\",\"659\",\"589\",\"35\",\"001\",\"003400\"]',\n '[\"Census Tract 37.12, Bernalillo County, New Mexico\",\"5254\",\"4165\",\"2437\",\"2326\",\"77336\",\"231500\",\"1276\",\"1139\",\"35\",\"001\",\"003712\"]',\n '[\"Census Tract 37.15, Bernalillo County, New Mexico\",\"3919\",\"3334\",\"1996\",\"1945\",\"83500\",\"293300\",\"1236\",\"1038\",\"35\",\"001\",\"003715\"]',\n '[\"Census Tract 37.23, Bernalillo County, New Mexico\",\"5760\",\"5341\",\"3039\",\"2804\",\"54436\",\"128600\",\"1205\",\"1073\",\"35\",\"001\",\"003723\"]',\n '[\"Census Tract 38.06, Bernalillo County, New Mexico\",\"3496\",\"3061\",\"1913\",\"1833\",\"87898\",\"272600\",\"982\",\"800\",\"35\",\"001\",\"003806\"]',\n '[\"Census Tract 43, Bernalillo County, New Mexico\",\"5604\",\"4417\",\"2278\",\"2002\",\"32036\",\"152900\",\"781\",\"679\",\"35\",\"001\",\"004300\"]',\n '[\"Census Tract 18.02, Do�a Ana County, New Mexico\",\"6890\",\"4670\",\"2636\",\"2470\",\"28513\",\"67000\",\"578\",\"399\",\"35\",\"013\",\"001802\"]',\n '[\"Census Tract 47.33, Bernalillo County, New Mexico\",\"7459\",\"5058\",\"3667\",\"3405\",\"45119\",\"124700\",\"1137\",\"910\",\"35\",\"001\",\"004733\"]',\n '[\"Census Tract 47.34, Bernalillo County, New Mexico\",\"7548\",\"5273\",\"3681\",\"3438\",\"37640\",\"109000\",\"952\",\"836\",\"35\",\"001\",\"004734\"]',\n '[\"Census Tract 47.35, Bernalillo County, New Mexico\",\"2167\",\"1645\",\"1154\",\"1066\",\"42685\",\"118600\",\"560\",\"390\",\"35\",\"001\",\"004735\"]',\n '[\"Census Tract 47.36, Bernalillo County, New Mexico\",\"1529\",\"1068\",\"737\",\"682\",\"31338\",\"25700\",\"800\",\"718\",\"35\",\"001\",\"004736\"]',\n '[\"Census Tract 47.37, Bernalillo County, New Mexico\",\"7285\",\"4893\",\"3473\",\"3294\",\"56278\",\"154100\",\"1329\",\"1093\",\"35\",\"001\",\"004737\"]',\n '[\"Census Tract 47.38, Bernalillo County, New Mexico\",\"6132\",\"4147\",\"2967\",\"2699\",\"47895\",\"138700\",\"1183\",\"1060\",\"35\",\"001\",\"004738\"]',\n '[\"Census Tract 47.39, Bernalillo County, New Mexico\",\"7013\",\"4832\",\"3219\",\"2958\",\"41859\",\"133000\",\"1106\",\"896\",\"35\",\"001\",\"004739\"]',\n '[\"Census Tract 47.40, Bernalillo County, New Mexico\",\"7113\",\"5077\",\"3600\",\"3335\",\"41809\",\"142800\",\"908\",\"808\",\"35\",\"001\",\"004740\"]',\n '[\"Census Tract 47.41, Bernalillo County, New Mexico\",\"7695\",\"5649\",\"3229\",\"2965\",\"33397\",\"152800\",\"817\",\"699\",\"35\",\"001\",\"004741\"]',\n '[\"Census Tract 47.42, Bernalillo County, New Mexico\",\"6181\",\"5179\",\"3313\",\"3176\",\"57944\",\"154800\",\"1044\",\"870\",\"35\",\"001\",\"004742\"]',\n '[\"Census Tract 47.43, Bernalillo County, New Mexico\",\"4172\",\"3036\",\"2292\",\"2219\",\"68295\",\"185600\",\"1276\",\"1064\",\"35\",\"001\",\"004743\"]',\n '[\"Census Tract 47.44, Bernalillo County, New Mexico\",\"5819\",\"4493\",\"3135\",\"3044\",\"87675\",\"227200\",\"1338\",\"1172\",\"35\",\"001\",\"004744\"]',\n '[\"Census Tract 47.45, Bernalillo County, New Mexico\",\"6436\",\"4952\",\"3422\",\"3304\",\"82411\",\"199300\",\"1055\",\"1008\",\"35\",\"001\",\"004745\"]',\n '[\"Census Tract 47.46, Bernalillo County, New Mexico\",\"8590\",\"6003\",\"4193\",\"4007\",\"68005\",\"179300\",\"1231\",\"1172\",\"35\",\"001\",\"004746\"]',\n '[\"Census Tract 47.47, Bernalillo County, New Mexico\",\"5372\",\"4074\",\"2669\",\"2525\",\"68659\",\"176500\",\"1042\",\"838\",\"35\",\"001\",\"004747\"]',\n '[\"Census Tract 10.01, Chaves County, New Mexico\",\"5652\",\"4293\",\"2515\",\"2430\",\"77633\",\"162700\",\"1315\",\"1023\",\"35\",\"005\",\"001001\"]',\n '[\"Census Tract 10.02, Chaves County, New Mexico\",\"4735\",\"3571\",\"1984\",\"1966\",\"61522\",\"191500\",\"825\",\"763\",\"35\",\"005\",\"001002\"]',\n '[\"Census Tract 11.01, Chaves County, New Mexico\",\"5558\",\"3902\",\"2084\",\"1924\",\"37083\",\"59500\",\"723\",\"530\",\"35\",\"005\",\"001101\"]',\n '[\"Census Tract 11.02, Chaves County, New Mexico\",\"3789\",\"2971\",\"1703\",\"1596\",\"49222\",\"157600\",\"1106\",\"1040\",\"35\",\"005\",\"001102\"]',\n '[\"Census Tract 9461, Cibola County, New Mexico\",\"3976\",\"3204\",\"1770\",\"1379\",\"34483\",\"75400\",\"327\",\"125\",\"35\",\"006\",\"946100\"]',\n '[\"Census Tract 9747, Cibola County, New Mexico\",\"5418\",\"4446\",\"1911\",\"1807\",\"51175\",\"105800\",\"622\",\"470\",\"35\",\"006\",\"974700\"]',\n '[\"Census Tract 3.03, Curry County, New Mexico\",\"4444\",\"3409\",\"2025\",\"1839\",\"51190\",\"181700\",\"923\",\"725\",\"35\",\"009\",\"000303\"]',\n '[\"Census Tract 3.04, Curry County, New Mexico\",\"6004\",\"4909\",\"2802\",\"2754\",\"68639\",\"196200\",\"994\",\"786\",\"35\",\"009\",\"000304\"]',\n '[\"Census Tract 6.01, Curry County, New Mexico\",\"1082\",\"930\",\"397\",\"378\",\"48333\",\"95800\",\"752\",\"474\",\"35\",\"009\",\"000601\"]',\n '[\"Census Tract 6.02, Curry County, New Mexico\",\"5350\",\"3908\",\"2272\",\"2221\",\"76635\",\"209800\",\"1344\",\"1138\",\"35\",\"009\",\"000602\"]',\n '[\"Census Tract 6.03, Curry County, New Mexico\",\"4104\",\"3020\",\"1844\",\"1798\",\"48468\",\"121400\",\"725\",\"581\",\"35\",\"009\",\"000603\"]',\n '[\"Census Tract 2.02, Do�a Ana County, New Mexico\",\"5845\",\"4329\",\"2688\",\"2550\",\"43882\",\"149000\",\"736\",\"573\",\"35\",\"013\",\"000202\"]',\n '[\"Census Tract 1.03, Do�a Ana County, New Mexico\",\"4873\",\"3483\",\"2053\",\"1946\",\"32219\",\"96000\",\"665\",\"525\",\"35\",\"013\",\"000103\"]',\n '[\"Census Tract 1.04, Do�a Ana County, New Mexico\",\"5001\",\"3712\",\"2247\",\"2118\",\"66192\",\"158600\",\"1089\",\"960\",\"35\",\"013\",\"000104\"]',\n '[\"Census Tract 2.01, Do�a Ana County, New Mexico\",\"5257\",\"4317\",\"1861\",\"1695\",\"31329\",\"78000\",\"735\",\"628\",\"35\",\"013\",\"000201\"]',\n '[\"Census Tract 11.03, Do�a Ana County, New Mexico\",\"4260\",\"3631\",\"2161\",\"1928\",\"52940\",\"190600\",\"623\",\"520\",\"35\",\"013\",\"001103\"]',\n '[\"Census Tract 11.04, Do�a Ana County, New Mexico\",\"5586\",\"3930\",\"2436\",\"2211\",\"45635\",\"134400\",\"740\",\"614\",\"35\",\"013\",\"001104\"]',\n '[\"Census Tract 12.03, Do�a Ana County, New Mexico\",\"4850\",\"3757\",\"2405\",\"2236\",\"35156\",\"168600\",\"712\",\"647\",\"35\",\"013\",\"001203\"]',\n '[\"Census Tract 12.04, Do�a Ana County, New Mexico\",\"4352\",\"3728\",\"1937\",\"1822\",\"95882\",\"357700\",\"957\",\"865\",\"35\",\"013\",\"001204\"]',\n '[\"Census Tract 12.05, Do�a Ana County, New Mexico\",\"4530\",\"4026\",\"2134\",\"2015\",\"59336\",\"196800\",\"1058\",\"945\",\"35\",\"013\",\"001205\"]',\n '[\"Census Tract 13.04, Do�a Ana County, New Mexico\",\"7985\",\"5837\",\"3713\",\"3340\",\"47429\",\"126600\",\"966\",\"746\",\"35\",\"013\",\"001304\"]',\n '[\"Census Tract 13.05, Do�a Ana County, New Mexico\",\"5059\",\"3747\",\"1978\",\"1827\",\"32966\",\"90100\",\"849\",\"608\",\"35\",\"013\",\"001305\"]',\n '[\"Census Tract 13.06, Do�a Ana County, New Mexico\",\"12799\",\"9351\",\"5949\",\"5629\",\"62893\",\"159800\",\"1055\",\"899\",\"35\",\"013\",\"001306\"]',\n '[\"Census Tract 13.07, Do�a Ana County, New Mexico\",\"6107\",\"5109\",\"2981\",\"2754\",\"39487\",\"106900\",\"720\",\"520\",\"35\",\"013\",\"001307\"]',\n '[\"Census Tract 17.06, Do�a Ana County, New Mexico\",\"4537\",\"3107\",\"1663\",\"1441\",\"21107\",\"101800\",\"608\",\"461\",\"35\",\"013\",\"001706\"]',\n '[\"Census Tract 17.07, Do�a Ana County, New Mexico\",\"5733\",\"4094\",\"2472\",\"2321\",\"27182\",\"91500\",\"623\",\"502\",\"35\",\"013\",\"001707\"]',\n '[\"Census Tract 18.05, Do�a Ana County, New Mexico\",\"3524\",\"2421\",\"1334\",\"1227\",\"23807\",\"77900\",\"679\",\"485\",\"35\",\"013\",\"001805\"]',\n '[\"Census Tract 18.06, Do�a Ana County, New Mexico\",\"6104\",\"4392\",\"2848\",\"2504\",\"23434\",\"109600\",\"474\",\"325\",\"35\",\"013\",\"001806\"]',\n '[\"Census Tract 9641, Grant County, New Mexico\",\"2309\",\"2008\",\"687\",\"678\",\"46698\",\"202200\",\"566\",\"467\",\"35\",\"017\",\"964100\"]',\n '[\"Census Tract 9642, Grant County, New Mexico\",\"1685\",\"1498\",\"694\",\"667\",\"43824\",\"152700\",\"911\",\"762\",\"35\",\"017\",\"964200\"]',\n '[\"Census Tract 9643, Grant County, New Mexico\",\"6441\",\"5052\",\"2967\",\"2820\",\"36288\",\"153600\",\"682\",\"547\",\"35\",\"017\",\"964300\"]',\n '[\"Census Tract 9644, Grant County, New Mexico\",\"4213\",\"3286\",\"1749\",\"1578\",\"29531\",\"94400\",\"698\",\"563\",\"35\",\"017\",\"964400\"]',\n '[\"Census Tract 9645, Grant County, New Mexico\",\"2945\",\"2250\",\"1113\",\"961\",\"36481\",\"90100\",\"606\",\"484\",\"35\",\"017\",\"964500\"]',\n '[\"Census Tract 9646, Grant County, New Mexico\",\"2972\",\"2308\",\"1151\",\"1038\",\"32717\",\"83400\",\"632\",\"428\",\"35\",\"017\",\"964600\"]',\n '[\"Census Tract 9647, Grant County, New Mexico\",\"5531\",\"4862\",\"2241\",\"2043\",\"49087\",\"223800\",\"944\",\"583\",\"35\",\"017\",\"964700\"]',\n '[\"Census Tract 9648, Grant County, New Mexico\",\"1965\",\"1524\",\"730\",\"688\",\"44412\",\"97700\",\"766\",\"525\",\"35\",\"017\",\"964800\"]',\n '[\"Census Tract 9700, Hidalgo County, New Mexico\",\"1856\",\"1497\",\"720\",\"677\",\"40909\",\"93000\",\"586\",\"518\",\"35\",\"023\",\"970000\"]',\n '[\"Census Tract 9702, Hidalgo County, New Mexico\",\"2515\",\"1982\",\"977\",\"864\",\"33477\",\"70100\",\"461\",\"314\",\"35\",\"023\",\"970200\"]',\n '[\"Census Tract 5.03, Lea County, New Mexico\",\"3663\",\"2858\",\"1936\",\"1855\",\"72462\",\"161100\",\"998\",\"887\",\"35\",\"025\",\"000503\"]',\n '[\"Census Tract 5.04, Lea County, New Mexico\",\"3772\",\"2660\",\"1849\",\"1775\",\"85850\",\"203200\",\"1196\",\"1111\",\"35\",\"025\",\"000504\"]',\n '[\"Census Tract 7.01, Lea County, New Mexico\",\"1700\",\"1293\",\"915\",\"884\",\"85703\",\"125900\",\"1132\",\"1088\",\"35\",\"025\",\"000701\"]',\n '[\"Census Tract 7.02, Lea County, New Mexico\",\"4140\",\"3379\",\"1258\",\"1181\",\"70000\",\"136700\",\"792\",\"742\",\"35\",\"025\",\"000702\"]',\n '[\"Census Tract 7.03, Lea County, New Mexico\",\"2597\",\"2013\",\"1209\",\"1176\",\"91204\",\"242000\",\"994\",\"820\",\"35\",\"025\",\"000703\"]',\n '[\"Census Tract 7.04, Lea County, New Mexico\",\"2978\",\"2331\",\"1565\",\"1505\",\"67565\",\"173300\",\"886\",\"810\",\"35\",\"025\",\"000704\"]',\n '[\"Census Tract 10.04, Lea County, New Mexico\",\"4096\",\"2915\",\"1991\",\"1757\",\"59750\",\"118900\",\"618\",\"608\",\"35\",\"025\",\"001004\"]',\n '[\"Census Tract 10.05, Lea County, New Mexico\",\"3626\",\"2607\",\"1342\",\"1236\",\"50677\",\"91100\",\"751\",\"651\",\"35\",\"025\",\"001005\"]',\n '[\"Census Tract 9602, Lincoln County, New Mexico\",\"1572\",\"1361\",\"437\",\"417\",\"35170\",\"102800\",\"679\",\"438\",\"35\",\"027\",\"960200\"]',\n '[\"Census Tract 9603, Lincoln County, New Mexico\",\"2721\",\"2291\",\"769\",\"769\",\"42896\",\"203600\",\"802\",\"587\",\"35\",\"027\",\"960300\"]',\n '[\"Census Tract 9604, Lincoln County, New Mexico\",\"7101\",\"5778\",\"2711\",\"2603\",\"41794\",\"237000\",\"580\",\"460\",\"35\",\"027\",\"960400\"]',\n '[\"Census Tract 9606, Lincoln County, New Mexico\",\"6154\",\"5325\",\"2304\",\"2202\",\"50313\",\"226400\",\"708\",\"579\",\"35\",\"027\",\"960600\"]',\n '[\"Census Tract 9608, Lincoln County, New Mexico\",\"1934\",\"1738\",\"1070\",\"988\",\"35532\",\"165000\",\"594\",\"480\",\"35\",\"027\",\"960800\"]',\n '[\"Census Tract 9405, McKinley County, New Mexico\",\"1768\",\"1167\",\"752\",\"570\",\"24864\",\"68200\",\"570\",\"379\",\"35\",\"031\",\"940500\"]',\n '[\"Census Tract 9439.01, McKinley County, New Mexico\",\"4450\",\"3592\",\"1652\",\"1387\",\"22963\",\"45000\",\"921\",\"332\",\"35\",\"031\",\"943901\"]',\n '[\"Census Tract 9439.02, McKinley County, New Mexico\",\"4150\",\"3088\",\"1207\",\"1064\",\"29347\",\"41000\",\"923\",\"706\",\"35\",\"031\",\"943902\"]',\n '[\"Census Tract 9440, McKinley County, New Mexico\",\"2224\",\"1604\",\"809\",\"613\",\"22465\",\"33800\",\"527\",\"300\",\"35\",\"031\",\"944000\"]',\n '[\"Census Tract 3.05, Otero County, New Mexico\",\"4212\",\"3323\",\"1999\",\"1690\",\"43668\",\"95100\",\"674\",\"549\",\"35\",\"035\",\"000305\"]',\n '[\"Census Tract 9731, McKinley County, New Mexico\",\"970\",\"888\",\"377\",\"364\",\"66280\",\"119000\",\"698\",\"492\",\"35\",\"031\",\"973100\"]',\n '[\"Census Tract 3.03, Otero County, New Mexico\",\"2381\",\"1776\",\"945\",\"906\",\"39303\",\"96000\",\"756\",\"558\",\"35\",\"035\",\"000303\"]',\n '[\"Census Tract 3.04, Otero County, New Mexico\",\"3508\",\"2810\",\"1575\",\"1449\",\"65577\",\"160300\",\"983\",\"803\",\"35\",\"035\",\"000304\"]',\n '[\"Census Tract 3.06, Otero County, New Mexico\",\"3357\",\"2651\",\"1482\",\"1332\",\"65558\",\"149800\",\"912\",\"704\",\"35\",\"035\",\"000306\"]',\n '[\"Census Tract 9.01, Otero County, New Mexico\",\"2673\",\"2414\",\"899\",\"872\",\"53979\",\"158100\",\"669\",\"481\",\"35\",\"035\",\"000901\"]',\n '[\"Census Tract 9.02, Otero County, New Mexico\",\"10895\",\"8169\",\"3323\",\"2759\",\"19334\",\"67500\",\"764\",\"525\",\"35\",\"035\",\"000902\"]',\n '[\"Census Tract 9400, Otero County, New Mexico\",\"3730\",\"2633\",\"1680\",\"1337\",\"33796\",\"62300\",\"305\",\"112\",\"35\",\"035\",\"940000\"]',\n '[\"Census Tract 9589, Quay County, New Mexico\",\"2538\",\"2194\",\"1064\",\"1043\",\"32813\",\"87700\",\"545\",\"443\",\"35\",\"037\",\"958900\"]',\n '[\"Census Tract 9410, Rio Arriba County, New Mexico\",\"3653\",null,null,null,null,\"102300\",\"506\",\"369\",\"35\",\"039\",\"941000\"]',\n '[\"Census Tract 9441, Rio Arriba County, New Mexico\",\"6541\",null,null,null,null,\"170000\",\"691\",\"514\",\"35\",\"039\",\"944100\"]',\n '[\"Census Tract 4.01, Roosevelt County, New Mexico\",\"3293\",\"2559\",\"1561\",\"1435\",\"48500\",\"121700\",\"714\",\"511\",\"35\",\"041\",\"000401\"]',\n '[\"Census Tract 4.02, Roosevelt County, New Mexico\",\"3463\",\"2667\",\"1431\",\"1375\",\"50174\",\"121300\",\"804\",\"546\",\"35\",\"041\",\"000402\"]',\n '[\"Census Tract 107.17, Sandoval County, New Mexico\",\"9158\",\"7375\",\"4870\",\"4313\",\"70357\",\"206300\",\"1141\",\"975\",\"35\",\"043\",\"010717\"]',\n '[\"Census Tract 107.18, Sandoval County, New Mexico\",\"6990\",\"4880\",\"3189\",\"3070\",\"84339\",\"265800\",\"1442\",\"1208\",\"35\",\"043\",\"010718\"]',\n '[\"Census Tract 107.19, Sandoval County, New Mexico\",\"4070\",\"3385\",\"2229\",\"2073\",\"59226\",\"175100\",\"950\",\"776\",\"35\",\"043\",\"010719\"]',\n '[\"Census Tract 107.20, Sandoval County, New Mexico\",\"9831\",\"7145\",\"4998\",\"4795\",\"89423\",\"227600\",\"1239\",\"990\",\"35\",\"043\",\"010720\"]',\n '[\"Census Tract 107.21, Sandoval County, New Mexico\",\"4384\",\"3499\",\"2438\",\"2159\",\"55315\",\"127700\",\"1128\",\"897\",\"35\",\"043\",\"010721\"]',\n '[\"Census Tract 107.22, Sandoval County, New Mexico\",\"6107\",\"4266\",\"2635\",\"2314\",\"60160\",\"172600\",\"1426\",\"1167\",\"35\",\"043\",\"010722\"]',\n '[\"Census Tract 107.23, Sandoval County, New Mexico\",\"12003\",\"7889\",\"5257\",\"4963\",\"63367\",\"175000\",\"1378\",\"1130\",\"35\",\"043\",\"010723\"]',\n '[\"Census Tract 109, Sandoval County, New Mexico\",\"2507\",\"1962\",\"951\",\"816\",\"36293\",\"111400\",\"557\",\"432\",\"35\",\"043\",\"010900\"]',\n '[\"Census Tract 110, Sandoval County, New Mexico\",\"1934\",\"1544\",\"759\",\"674\",\"44637\",\"145900\",\"650\",\"446\",\"35\",\"043\",\"011000\"]',\n '[\"Census Tract 111, Sandoval County, New Mexico\",\"6251\",\"5602\",\"2790\",\"2522\",\"67857\",\"333100\",\"1054\",\"881\",\"35\",\"043\",\"011100\"]',\n '[\"Census Tract 112, Sandoval County, New Mexico\",\"2723\",\"2154\",\"1243\",\"1101\",\"41510\",\"227100\",\"720\",\"582\",\"35\",\"043\",\"011200\"]',\n '[\"Census Tract 9406, Sandoval County, New Mexico\",\"2049\",\"1487\",\"784\",\"735\",\"37500\",\"113900\",\"592\",\"381\",\"35\",\"043\",\"940600\"]',\n '[\"Census Tract 9407, Sandoval County, New Mexico\",\"3544\",\"2593\",\"1301\",\"1147\",\"49286\",\"178300\",\"538\",\"441\",\"35\",\"043\",\"940700\"]',\n '[\"Census Tract 5.03, San Juan County, New Mexico\",\"3151\",\"2186\",\"1442\",\"1267\",\"42712\",\"39000\",\"812\",\"565\",\"35\",\"045\",\"000503\"]',\n '[\"Census Tract 5.04, San Juan County, New Mexico\",\"1981\",\"1538\",\"1010\",\"913\",\"65222\",\"142500\",\"1117\",\"829\",\"35\",\"045\",\"000504\"]',\n '[\"Census Tract 5.05, San Juan County, New Mexico\",\"6170\",\"4620\",\"2755\",\"2505\",\"53125\",\"157600\",\"810\",\"686\",\"35\",\"045\",\"000505\"]',\n '[\"Census Tract 6.07, San Juan County, New Mexico\",\"4562\",\"3581\",\"1933\",\"1750\",\"55526\",\"167000\",\"722\",\"611\",\"35\",\"045\",\"000607\"]',\n '[\"Census Tract 6.08, San Juan County, New Mexico\",\"6502\",\"4856\",\"2960\",\"2661\",\"69521\",\"114700\",\"1160\",\"925\",\"35\",\"045\",\"000608\"]',\n '[\"Census Tract 6.09, San Juan County, New Mexico\",\"1385\",\"990\",\"577\",\"528\",\"36604\",\"177800\",\"614\",\"544\",\"35\",\"045\",\"000609\"]',\n '[\"Census Tract 6.10, San Juan County, New Mexico\",\"4299\",\"3241\",\"1778\",\"1678\",\"42103\",\"155000\",\"711\",\"544\",\"35\",\"045\",\"000610\"]',\n '[\"Census Tract 47.48, Bernalillo County, New Mexico\",\"10784\",\"7461\",\"4919\",\"4494\",\"78965\",\"198400\",\"1492\",\"1247\",\"35\",\"001\",\"004748\"]',\n '[\"Census Tract 47.49, Bernalillo County, New Mexico\",\"4438\",\"3645\",\"2508\",\"2251\",\"38301\",\"118500\",\"904\",\"784\",\"35\",\"001\",\"004749\"]',\n '[\"Census Tract 47.50, Bernalillo County, New Mexico\",\"6026\",\"4761\",\"3230\",\"3009\",\"60774\",\"166900\",\"1291\",\"1091\",\"35\",\"001\",\"004750\"]',\n '[\"Census Tract 47.51, Bernalillo County, New Mexico\",\"3672\",\"2840\",\"1945\",\"1881\",\"68098\",\"219200\",\"1271\",\"1161\",\"35\",\"001\",\"004751\"]',\n '[\"Census Tract 47.52, Bernalillo County, New Mexico\",\"3943\",\"3203\",\"2146\",\"2031\",\"71705\",\"240100\",\"1060\",\"922\",\"35\",\"001\",\"004752\"]',\n '[\"Census Tract 47.53, Bernalillo County, New Mexico\",\"3996\",\"3231\",\"2299\",\"2197\",\"76389\",\"275000\",\"1093\",\"949\",\"35\",\"001\",\"004753\"]',\n '[\"Census Tract 9405, Bernalillo County, New Mexico\",\"3123\",\"2816\",\"1231\",\"1192\",\"97762\",\"443400\",\"990\",\"830\",\"35\",\"001\",\"940500\"]',\n '[\"Census Tract 9406, Bernalillo County, New Mexico\",\"11788\",\"9041\",\"5129\",\"4551\",\"76347\",\"235200\",\"1197\",\"1014\",\"35\",\"001\",\"940600\"]',\n '[\"Census Tract 9407, Bernalillo County, New Mexico\",\"2704\",\"2224\",\"1273\",\"1099\",\"33536\",\"90300\",\"475\",\"425\",\"35\",\"001\",\"940700\"]',\n '[\"Census Tract 9764, Catron County, New Mexico\",\"3539\",\"3190\",\"842\",\"842\",\"42480\",\"161800\",\"1150\",\"860\",\"35\",\"003\",\"976400\"]',\n '[\"Census Tract 2.01, Chaves County, New Mexico\",\"3463\",\"2784\",\"1668\",\"1481\",\"44286\",\"103400\",\"866\",\"586\",\"35\",\"005\",\"000201\"]',\n '[\"Census Tract 6.13, San Juan County, New Mexico\",\"3979\",\"3378\",\"1665\",\"1588\",\"54426\",\"158200\",\"829\",\"665\",\"35\",\"045\",\"000613\"]',\n '[\"Census Tract 2.02, Chaves County, New Mexico\",\"3734\",\"2775\",\"1781\",\"1735\",\"41818\",\"94100\",\"806\",\"600\",\"35\",\"005\",\"000202\"]',\n '[\"Census Tract 6.11, San Juan County, New Mexico\",\"3570\",\"3110\",\"1946\",\"1798\",\"56776\",\"193000\",\"963\",\"832\",\"35\",\"045\",\"000611\"]',\n '[\"Census Tract 6.12, San Juan County, New Mexico\",\"2240\",\"1699\",\"966\",\"940\",\"52959\",\"131400\",\"874\",\"705\",\"35\",\"045\",\"000612\"]',\n '[\"Census Tract 7.05, San Juan County, New Mexico\",\"4102\",\"2690\",\"1761\",\"1644\",\"57545\",\"151500\",\"797\",\"682\",\"35\",\"045\",\"000705\"]',\n '[\"Census Tract 7.06, San Juan County, New Mexico\",\"2908\",\"2400\",\"1369\",\"1216\",\"48125\",\"69400\",\"789\",\"596\",\"35\",\"045\",\"000706\"]',\n '[\"Census Tract 7.07, San Juan County, New Mexico\",\"4042\",\"2926\",\"1825\",\"1654\",\"59402\",\"144500\",\"758\",\"596\",\"35\",\"045\",\"000707\"]',\n '[\"Census Tract 7.08, San Juan County, New Mexico\",\"4710\",\"3524\",\"1837\",\"1665\",\"38844\",\"167000\",\"914\",\"539\",\"35\",\"045\",\"000708\"]',\n '[\"Census Tract 9, San Juan County, New Mexico\",\"2287\",\"1851\",\"1217\",\"1101\",\"64531\",\"178400\",\"891\",\"742\",\"35\",\"045\",\"000900\"]',\n '[\"Census Tract 9428.01, San Juan County, New Mexico\",\"2705\",\"2164\",\"1039\",\"873\",\"37125\",\"76300\",\"325\",\"99\",\"35\",\"045\",\"942801\"]',\n '[\"Census Tract 9428.02, San Juan County, New Mexico\",\"6751\",\"5103\",\"2694\",\"2228\",\"42895\",\"75900\",\"544\",\"359\",\"35\",\"045\",\"942802\"]',\n '[\"Census Tract 9428.03, San Juan County, New Mexico\",\"2745\",\"1992\",\"1029\",\"851\",\"26522\",\"59800\",\"447\",\"270\",\"35\",\"045\",\"942803\"]',\n '[\"Census Tract 9432.01, San Juan County, New Mexico\",\"5324\",\"4006\",\"2065\",\"1749\",\"29135\",\"82400\",\"657\",\"502\",\"35\",\"045\",\"943201\"]']"
     },
     "execution_count": 88,
     "metadata": {},
     "output_type": "execute_result"
    }
   ],
   "source": [
    "_api_call('https://api.census.gov/data/2018/acs/acs5?get=NAME,B01003_001E,B23025_001E,B23025_003E,B23025_004E,B19013_001E,B25077_001E,B25064_001E,B25058_001E&for=tract:*&in=state:35&key=7bff9e82cfa3f3e36a17f50f82663a2ab16e00e3')"
   ]
  },
  {
   "cell_type": "code",
   "execution_count": 80,
   "metadata": {},
   "outputs": [
    {
     "data": {
      "text/plain": "[{'geo_for': 'tract:*', 'geo_in': 'state:01', 'fips_state': '01'},\n {'geo_for': 'tract:*', 'geo_in': 'state:02', 'fips_state': '02'},\n {'geo_for': 'tract:*', 'geo_in': 'state:04', 'fips_state': '04'},\n {'geo_for': 'tract:*', 'geo_in': 'state:05', 'fips_state': '05'},\n {'geo_for': 'tract:*', 'geo_in': 'state:06', 'fips_state': '06'},\n {'geo_for': 'tract:*', 'geo_in': 'state:08', 'fips_state': '08'},\n {'geo_for': 'tract:*', 'geo_in': 'state:09', 'fips_state': '09'},\n {'geo_for': 'tract:*', 'geo_in': 'state:10', 'fips_state': '10'},\n {'geo_for': 'tract:*', 'geo_in': 'state:12', 'fips_state': '12'},\n {'geo_for': 'tract:*', 'geo_in': 'state:13', 'fips_state': '13'},\n {'geo_for': 'tract:*', 'geo_in': 'state:15', 'fips_state': '15'},\n {'geo_for': 'tract:*', 'geo_in': 'state:16', 'fips_state': '16'},\n {'geo_for': 'tract:*', 'geo_in': 'state:17', 'fips_state': '17'},\n {'geo_for': 'tract:*', 'geo_in': 'state:18', 'fips_state': '18'},\n {'geo_for': 'tract:*', 'geo_in': 'state:19', 'fips_state': '19'},\n {'geo_for': 'tract:*', 'geo_in': 'state:20', 'fips_state': '20'},\n {'geo_for': 'tract:*', 'geo_in': 'state:21', 'fips_state': '21'},\n {'geo_for': 'tract:*', 'geo_in': 'state:22', 'fips_state': '22'},\n {'geo_for': 'tract:*', 'geo_in': 'state:23', 'fips_state': '23'},\n {'geo_for': 'tract:*', 'geo_in': 'state:24', 'fips_state': '24'},\n {'geo_for': 'tract:*', 'geo_in': 'state:25', 'fips_state': '25'},\n {'geo_for': 'tract:*', 'geo_in': 'state:26', 'fips_state': '26'},\n {'geo_for': 'tract:*', 'geo_in': 'state:27', 'fips_state': '27'},\n {'geo_for': 'tract:*', 'geo_in': 'state:28', 'fips_state': '28'},\n {'geo_for': 'tract:*', 'geo_in': 'state:29', 'fips_state': '29'},\n {'geo_for': 'tract:*', 'geo_in': 'state:30', 'fips_state': '30'},\n {'geo_for': 'tract:*', 'geo_in': 'state:31', 'fips_state': '31'},\n {'geo_for': 'tract:*', 'geo_in': 'state:32', 'fips_state': '32'},\n {'geo_for': 'tract:*', 'geo_in': 'state:33', 'fips_state': '33'},\n {'geo_for': 'tract:*', 'geo_in': 'state:34', 'fips_state': '34'},\n {'geo_for': 'tract:*', 'geo_in': 'state:35', 'fips_state': '35'},\n {'geo_for': 'tract:*', 'geo_in': 'state:36', 'fips_state': '36'},\n {'geo_for': 'tract:*', 'geo_in': 'state:37', 'fips_state': '37'},\n {'geo_for': 'tract:*', 'geo_in': 'state:38', 'fips_state': '38'},\n {'geo_for': 'tract:*', 'geo_in': 'state:39', 'fips_state': '39'},\n {'geo_for': 'tract:*', 'geo_in': 'state:40', 'fips_state': '40'},\n {'geo_for': 'tract:*', 'geo_in': 'state:41', 'fips_state': '41'},\n {'geo_for': 'tract:*', 'geo_in': 'state:42', 'fips_state': '42'},\n {'geo_for': 'tract:*', 'geo_in': 'state:44', 'fips_state': '44'},\n {'geo_for': 'tract:*', 'geo_in': 'state:45', 'fips_state': '45'},\n {'geo_for': 'tract:*', 'geo_in': 'state:46', 'fips_state': '46'},\n {'geo_for': 'tract:*', 'geo_in': 'state:47', 'fips_state': '47'},\n {'geo_for': 'tract:*', 'geo_in': 'state:48', 'fips_state': '48'},\n {'geo_for': 'tract:*', 'geo_in': 'state:49', 'fips_state': '49'},\n {'geo_for': 'tract:*', 'geo_in': 'state:50', 'fips_state': '50'},\n {'geo_for': 'tract:*', 'geo_in': 'state:51', 'fips_state': '51'},\n {'geo_for': 'tract:*', 'geo_in': 'state:53', 'fips_state': '53'},\n {'geo_for': 'tract:*', 'geo_in': 'state:54', 'fips_state': '54'},\n {'geo_for': 'tract:*', 'geo_in': 'state:55', 'fips_state': '55'},\n {'geo_for': 'tract:*', 'geo_in': 'state:56', 'fips_state': '56'},\n {'geo_for': 'tract:*', 'geo_in': 'state:60', 'fips_state': '60'},\n {'geo_for': 'tract:*', 'geo_in': 'state:66', 'fips_state': '66'},\n {'geo_for': 'tract:*', 'geo_in': 'state:69', 'fips_state': '69'},\n {'geo_for': 'tract:*', 'geo_in': 'state:72', 'fips_state': '72'},\n {'geo_for': 'tract:*', 'geo_in': 'state:78', 'fips_state': '78'}]"
     },
     "execution_count": 80,
     "metadata": {},
     "output_type": "execute_result"
    }
   ],
   "source": [
    "geo_package = []\n",
    "for fip in fips['fips_state']:\n",
    "    geo_package.append({'geo_for':'tract:*', 'geo_in':'state:' + fip, 'fips_state' : fip})\n",
    "geo_package"
   ]
  },
  {
   "cell_type": "code",
   "execution_count": 81,
   "metadata": {},
   "outputs": [
    {
     "name": "stdout",
     "output_type": "stream",
     "text": "Error with fips 35\nhttps://api.census.gov/data/2018/acs/acs5?get=NAME,B01003_001E,B23025_001E,B23025_003E,B23025_004E,B19013_001E,B25077_001E,B25064_001E,B25058_001E&for=tract:*&in=state:35&key=7bff9e82cfa3f3e36a17f50f82663a2ab16e00e3\nError with fips 60\nhttps://api.census.gov/data/2018/acs/acs5?get=NAME,B01003_001E,B23025_001E,B23025_003E,B23025_004E,B19013_001E,B25077_001E,B25064_001E,B25058_001E&for=tract:*&in=state:60&key=7bff9e82cfa3f3e36a17f50f82663a2ab16e00e3\nError with fips 66\nhttps://api.census.gov/data/2018/acs/acs5?get=NAME,B01003_001E,B23025_001E,B23025_003E,B23025_004E,B19013_001E,B25077_001E,B25064_001E,B25058_001E&for=tract:*&in=state:66&key=7bff9e82cfa3f3e36a17f50f82663a2ab16e00e3\nError with fips 69\nhttps://api.census.gov/data/2018/acs/acs5?get=NAME,B01003_001E,B23025_001E,B23025_003E,B23025_004E,B19013_001E,B25077_001E,B25064_001E,B25058_001E&for=tract:*&in=state:69&key=7bff9e82cfa3f3e36a17f50f82663a2ab16e00e3\nError with fips 78\nhttps://api.census.gov/data/2018/acs/acs5?get=NAME,B01003_001E,B23025_001E,B23025_003E,B23025_004E,B19013_001E,B25077_001E,B25064_001E,B25058_001E&for=tract:*&in=state:78&key=7bff9e82cfa3f3e36a17f50f82663a2ab16e00e3\n"
    }
   ],
   "source": [
    "for geo in geo_package:\n",
    "    data = api_call(base, demographic_variables.keys(), geo, key)\n",
    "    try:\n",
    "        data.to_csv('/Users/hamzaamjad/Box/Data/Demographic/Census Bureau/Census Tract/' + geo['fips_state'] + '.csv')\n",
    "    except:\n",
    "        print(\"Error with fips\",geo['fips_state'])\n",
    "        try:\n",
    "            print(api_call_url(base, demographic_variables.keys(), geo, key))\n",
    "        except:\n",
    "            pass"
   ]
  },
  {
   "cell_type": "code",
   "execution_count": 48,
   "metadata": {},
   "outputs": [
    {
     "data": {
      "text/html": "<div>\n<style scoped>\n    .dataframe tbody tr th:only-of-type {\n        vertical-align: middle;\n    }\n\n    .dataframe tbody tr th {\n        vertical-align: top;\n    }\n\n    .dataframe thead th {\n        text-align: right;\n    }\n</style>\n<table border=\"1\" class=\"dataframe\">\n  <thead>\n    <tr style=\"text-align: right;\">\n      <th></th>\n      <th>label</th>\n      <th>concept</th>\n      <th>predicateType</th>\n      <th>group</th>\n      <th>limit</th>\n      <th>predicateOnly</th>\n      <th>attributes</th>\n      <th>required</th>\n    </tr>\n  </thead>\n  <tbody>\n    <tr>\n      <th>B01003_001E</th>\n      <td>Estimate!!Total</td>\n      <td>TOTAL POPULATION</td>\n      <td>int</td>\n      <td>B01003</td>\n      <td>0</td>\n      <td>NaN</td>\n      <td>B01003_001EA,B01003_001M,B01003_001MA</td>\n      <td>NaN</td>\n    </tr>\n    <tr>\n      <th>B23025_001E</th>\n      <td>Estimate!!Total</td>\n      <td>EMPLOYMENT STATUS FOR THE POPULATION 16 YEARS ...</td>\n      <td>int</td>\n      <td>B23025</td>\n      <td>0</td>\n      <td>NaN</td>\n      <td>B23025_001M,B23025_001MA,B23025_001EA</td>\n      <td>NaN</td>\n    </tr>\n    <tr>\n      <th>B23025_003E</th>\n      <td>Estimate!!Total!!In labor force!!Civilian labo...</td>\n      <td>EMPLOYMENT STATUS FOR THE POPULATION 16 YEARS ...</td>\n      <td>int</td>\n      <td>B23025</td>\n      <td>0</td>\n      <td>NaN</td>\n      <td>B23025_003M,B23025_003MA,B23025_003EA</td>\n      <td>NaN</td>\n    </tr>\n    <tr>\n      <th>B23025_004E</th>\n      <td>Estimate!!Total!!In labor force!!Civilian labo...</td>\n      <td>EMPLOYMENT STATUS FOR THE POPULATION 16 YEARS ...</td>\n      <td>int</td>\n      <td>B23025</td>\n      <td>0</td>\n      <td>NaN</td>\n      <td>B23025_004M,B23025_004MA,B23025_004EA</td>\n      <td>NaN</td>\n    </tr>\n    <tr>\n      <th>B19013_001E</th>\n      <td>Estimate!!Median household income in the past ...</td>\n      <td>MEDIAN HOUSEHOLD INCOME IN THE PAST 12 MONTHS ...</td>\n      <td>int</td>\n      <td>B19013</td>\n      <td>0</td>\n      <td>NaN</td>\n      <td>B19013_001M,B19013_001MA,B19013_001EA</td>\n      <td>NaN</td>\n    </tr>\n    <tr>\n      <th>B25077_001E</th>\n      <td>Estimate!!Median value (dollars)</td>\n      <td>MEDIAN VALUE (DOLLARS)</td>\n      <td>int</td>\n      <td>B25077</td>\n      <td>0</td>\n      <td>NaN</td>\n      <td>B25077_001M,B25077_001MA,B25077_001EA</td>\n      <td>NaN</td>\n    </tr>\n    <tr>\n      <th>B25064_001E</th>\n      <td>Estimate!!Median gross rent</td>\n      <td>MEDIAN GROSS RENT (DOLLARS)</td>\n      <td>int</td>\n      <td>B25064</td>\n      <td>0</td>\n      <td>NaN</td>\n      <td>B25064_001M,B25064_001MA,B25064_001EA</td>\n      <td>NaN</td>\n    </tr>\n    <tr>\n      <th>B25058_001E</th>\n      <td>Estimate!!Median contract rent</td>\n      <td>MEDIAN CONTRACT RENT (DOLLARS)</td>\n      <td>int</td>\n      <td>B25058</td>\n      <td>0</td>\n      <td>NaN</td>\n      <td>B25058_001M,B25058_001MA,B25058_001EA</td>\n      <td>NaN</td>\n    </tr>\n  </tbody>\n</table>\n</div>",
      "text/plain": "                                                         label  \\\nB01003_001E                                    Estimate!!Total   \nB23025_001E                                    Estimate!!Total   \nB23025_003E  Estimate!!Total!!In labor force!!Civilian labo...   \nB23025_004E  Estimate!!Total!!In labor force!!Civilian labo...   \nB19013_001E  Estimate!!Median household income in the past ...   \nB25077_001E                   Estimate!!Median value (dollars)   \nB25064_001E                        Estimate!!Median gross rent   \nB25058_001E                     Estimate!!Median contract rent   \n\n                                                       concept predicateType  \\\nB01003_001E                                   TOTAL POPULATION           int   \nB23025_001E  EMPLOYMENT STATUS FOR THE POPULATION 16 YEARS ...           int   \nB23025_003E  EMPLOYMENT STATUS FOR THE POPULATION 16 YEARS ...           int   \nB23025_004E  EMPLOYMENT STATUS FOR THE POPULATION 16 YEARS ...           int   \nB19013_001E  MEDIAN HOUSEHOLD INCOME IN THE PAST 12 MONTHS ...           int   \nB25077_001E                             MEDIAN VALUE (DOLLARS)           int   \nB25064_001E                        MEDIAN GROSS RENT (DOLLARS)           int   \nB25058_001E                     MEDIAN CONTRACT RENT (DOLLARS)           int   \n\n              group  limit predicateOnly  \\\nB01003_001E  B01003      0           NaN   \nB23025_001E  B23025      0           NaN   \nB23025_003E  B23025      0           NaN   \nB23025_004E  B23025      0           NaN   \nB19013_001E  B19013      0           NaN   \nB25077_001E  B25077      0           NaN   \nB25064_001E  B25064      0           NaN   \nB25058_001E  B25058      0           NaN   \n\n                                        attributes required  \nB01003_001E  B01003_001EA,B01003_001M,B01003_001MA      NaN  \nB23025_001E  B23025_001M,B23025_001MA,B23025_001EA      NaN  \nB23025_003E  B23025_003M,B23025_003MA,B23025_003EA      NaN  \nB23025_004E  B23025_004M,B23025_004MA,B23025_004EA      NaN  \nB19013_001E  B19013_001M,B19013_001MA,B19013_001EA      NaN  \nB25077_001E  B25077_001M,B25077_001MA,B25077_001EA      NaN  \nB25064_001E  B25064_001M,B25064_001MA,B25064_001EA      NaN  \nB25058_001E  B25058_001M,B25058_001MA,B25058_001EA      NaN  "
     },
     "execution_count": 48,
     "metadata": {},
     "output_type": "execute_result"
    }
   ],
   "source": [
    "# https://www.census.gov/content/dam/Census/library/publications/2018/acs/acs_general_handbook_2018_ch07.pdf\n",
    "\n",
    "demographic_variables = [\n",
    "    \"B01003_001E\", # Total Population\n",
    "    \"B23025_001E\", # Population aged 16 and over\n",
    "    \"B23025_003E\", # Population aged 16 and over in civilian labor force\n",
    "    \"B23025_004E\", # Population aged 16 and over in civilian labor force, employed\"\n",
    "    \"B19013_001E\", # Median Household Income\n",
    "    \"B25077_001E\", # Median Home Price\n",
    "    \"B25064_001E\", # Median Gross Rent\n",
    "    \"B25058_001E\"] # Median Contract Rent\n",
    "variables.loc[demographic_variables,:]\n",
    "test = [\n",
    "variables.loc[test,:]"
   ]
  },
  {
   "cell_type": "code",
   "execution_count": 40,
   "metadata": {},
   "outputs": [
    {
     "data": {
      "text/plain": "[{'B19013E_001E': 'Estimate!!Median household income in the past 12 months (in 2018 inflation-adjusted dollars)',\n  'B19013D_001E': 'Estimate!!Median household income in the past 12 months (in 2018 inflation-adjusted dollars)',\n  'B19013I_001E': 'Estimate!!Median household income in the past 12 months (in 2018 inflation-adjusted dollars)',\n  'B19013A_001E': 'Estimate!!Median household income in the past 12 months (in 2018 inflation-adjusted dollars)',\n  'B19013F_001E': 'Estimate!!Median household income in the past 12 months (in 2018 inflation-adjusted dollars)',\n  'B25119_002E': 'Estimate!!Median household income in the past 12 months (in 2018 inflation-adjusted dollars) --!!Owner occupied (dollars)',\n  'B25119_001E': 'Estimate!!Median household income in the past 12 months (in 2018 inflation-adjusted dollars) --!!Total',\n  'B25119_003E': 'Estimate!!Median household income in the past 12 months (in 2018 inflation-adjusted dollars) --!!Renter occupied (dollars)',\n  'B19013G_001E': 'Estimate!!Median household income in the past 12 months (in 2018 inflation-adjusted dollars)',\n  'B25099_003E': 'Estimate!!Median household income --!!Total!!Median household income for units without a mortgage',\n  'B25099_001E': 'Estimate!!Median household income --!!Total',\n  'B25099_002E': 'Estimate!!Median household income --!!Total!!Median household income for units with a mortgage',\n  'B19013B_001E': 'Estimate!!Median household income in the past 12 months (in 2018 inflation-adjusted dollars)',\n  'B29004_001E': 'Estimate!!Median household income in the past 12 months (in 2018 inflation-adjusted dollars)',\n  'B19049_004E': 'Estimate!!Median household income in the past 12 months (in 2018 inflation-adjusted dollars) --!!Householder 45 to 64 years',\n  'B19049_005E': 'Estimate!!Median household income in the past 12 months (in 2018 inflation-adjusted dollars) --!!Householder 65 years and over',\n  'B19049_002E': 'Estimate!!Median household income in the past 12 months (in 2018 inflation-adjusted dollars) --!!Householder under 25 years',\n  'B19049_003E': 'Estimate!!Median household income in the past 12 months (in 2018 inflation-adjusted dollars) --!!Householder 25 to 44 years',\n  'B19049_001E': 'Estimate!!Median household income in the past 12 months (in 2018 inflation-adjusted dollars) --!!Total',\n  'B19013C_001E': 'Estimate!!Median household income in the past 12 months (in 2018 inflation-adjusted dollars)',\n  'B19013_001E': 'Estimate!!Median household income in the past 12 months (in 2018 inflation-adjusted dollars)',\n  'B19013H_001E': 'Estimate!!Median household income in the past 12 months (in 2018 inflation-adjusted dollars)'},\n {'C18120_003E': 'Estimate!!Total!!In the labor force!!Employed',\n  'C18120_005E': 'Estimate!!Total!!In the labor force!!Employed!!No disability',\n  'C18120_004E': 'Estimate!!Total!!In the labor force!!Employed!!With a disability',\n  'C18120_007E': 'Estimate!!Total!!In the labor force!!Unemployed!!With a disability',\n  'C18120_006E': 'Estimate!!Total!!In the labor force!!Unemployed',\n  'C18120_008E': 'Estimate!!Total!!In the labor force!!Unemployed!!No disability'}]"
     },
     "execution_count": 40,
     "metadata": {},
     "output_type": "execute_result"
    }
   ],
   "source": [
    "var_dict = dict(zip(list(variables.index),variables.label))\n",
    "\n",
    "filters = ['Median household income', 'Estimate!!Total!!In the labor force!!']\n",
    "var_dict_filtered = []\n",
    "for filter_string in filters:\n",
    "    var_dict_filtered.append({key:value for (key,value) in var_dict.items() if filter_string in value})\n",
    "var_dict_filtered"
   ]
  }
 ]
}